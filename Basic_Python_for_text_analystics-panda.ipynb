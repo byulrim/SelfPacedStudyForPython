{
 "cells": [
  {
   "cell_type": "code",
   "execution_count": 2,
   "metadata": {},
   "outputs": [],
   "source": [
    "\n",
    "# pandas  모듈 사용 준비하기.\n",
    "import pandas as pd"
   ]
  },
  {
   "cell_type": "code",
   "execution_count": 4,
   "metadata": {},
   "outputs": [
    {
     "name": "stdout",
     "output_type": "stream",
     "text": [
      "코로나 상생지원금 문의입니다.\n",
      "낮 12시 ~ 2시 지하철 운행시간 문의입니다.\n",
      "밤 12시 이후 버스 운행시간 문의입니다.\n",
      "사회적 거리두기로 인한 10시 이후 영업시간 안내입니다.\n",
      "Bus 운행시간 문의입니다.\n",
      "Taxi 승강장 문의입니다.\n"
     ]
    }
   ],
   "source": [
    "# 실습용 예제 컨텐트 만들기.\n",
    "document = [\n",
    "    \"코로나 상생지원금 문의입니다.\",\n",
    "    \"낮 12시 ~ 2시 지하철 운행시간 문의입니다.\",\n",
    "    \"밤 12시 이후 버스 운행시간 문의입니다.\",\n",
    "    \"사회적 거리두기로 인한 10시 이후 영업시간 안내입니다.\",\n",
    "    \"Bus 운행시간 문의입니다.\",\n",
    "    \"Taxi 승강장 문의입니다.\",\n",
    "]\n",
    "\n",
    "print(\"\\n\".join(document))"
   ]
  },
  {
   "cell_type": "code",
   "execution_count": 5,
   "metadata": {},
   "outputs": [],
   "source": [
    "# 실습용 예제 컨텐트를 이용하여 데이터프레임 만들기.\n",
    "# df = pd.DataFrame({\"문서\": document}) #딕셔너리(dictionary)를 이용한 데이터프레임 만들기(\"이름\"이 컬럼명으로 지정됨.).\n",
    "df = pd.DataFrame(document, index=range(6), columns=[\"문서\"])"
   ]
  },
  {
   "cell_type": "code",
   "execution_count": 6,
   "metadata": {},
   "outputs": [
    {
     "data": {
      "text/html": [
       "<div>\n",
       "<style scoped>\n",
       "    .dataframe tbody tr th:only-of-type {\n",
       "        vertical-align: middle;\n",
       "    }\n",
       "\n",
       "    .dataframe tbody tr th {\n",
       "        vertical-align: top;\n",
       "    }\n",
       "\n",
       "    .dataframe thead th {\n",
       "        text-align: right;\n",
       "    }\n",
       "</style>\n",
       "<table border=\"1\" class=\"dataframe\">\n",
       "  <thead>\n",
       "    <tr style=\"text-align: right;\">\n",
       "      <th></th>\n",
       "      <th>문서</th>\n",
       "    </tr>\n",
       "  </thead>\n",
       "  <tbody>\n",
       "    <tr>\n",
       "      <th>0</th>\n",
       "      <td>코로나 상생지원금 문의입니다.</td>\n",
       "    </tr>\n",
       "    <tr>\n",
       "      <th>1</th>\n",
       "      <td>낮 12시 ~ 2시 지하철 운행시간 문의입니다.</td>\n",
       "    </tr>\n",
       "    <tr>\n",
       "      <th>2</th>\n",
       "      <td>밤 12시 이후 버스 운행시간 문의입니다.</td>\n",
       "    </tr>\n",
       "    <tr>\n",
       "      <th>3</th>\n",
       "      <td>사회적 거리두기로 인한 10시 이후 영업시간 안내입니다.</td>\n",
       "    </tr>\n",
       "    <tr>\n",
       "      <th>4</th>\n",
       "      <td>Bus 운행시간 문의입니다.</td>\n",
       "    </tr>\n",
       "    <tr>\n",
       "      <th>5</th>\n",
       "      <td>Taxi 승강장 문의입니다.</td>\n",
       "    </tr>\n",
       "  </tbody>\n",
       "</table>\n",
       "</div>"
      ],
      "text/plain": [
       "                                문서\n",
       "0                 코로나 상생지원금 문의입니다.\n",
       "1       낮 12시 ~ 2시 지하철 운행시간 문의입니다.\n",
       "2          밤 12시 이후 버스 운행시간 문의입니다.\n",
       "3  사회적 거리두기로 인한 10시 이후 영업시간 안내입니다.\n",
       "4                  Bus 운행시간 문의입니다.\n",
       "5                  Taxi 승강장 문의입니다."
      ]
     },
     "execution_count": 6,
     "metadata": {},
     "output_type": "execute_result"
    }
   ],
   "source": [
    "# 생성된 데이터프레임 확인하기 - 데이터 확인하기.\n",
    "df"
   ]
  },
  {
   "cell_type": "code",
   "execution_count": 7,
   "metadata": {},
   "outputs": [
    {
     "data": {
      "text/plain": [
       "(6, 1)"
      ]
     },
     "execution_count": 7,
     "metadata": {},
     "output_type": "execute_result"
    }
   ],
   "source": [
    "# 데이터프레임 모양(생성된 행과 열수) 확인하기.\n",
    "df.shape"
   ]
  },
  {
   "cell_type": "code",
   "execution_count": 8,
   "metadata": {},
   "outputs": [
    {
     "name": "stdout",
     "output_type": "stream",
     "text": [
      "<class 'pandas.core.frame.DataFrame'>\n",
      "RangeIndex: 6 entries, 0 to 5\n",
      "Data columns (total 1 columns):\n",
      " #   Column  Non-Null Count  Dtype \n",
      "---  ------  --------------  ----- \n",
      " 0   문서      6 non-null      object\n",
      "dtypes: object(1)\n",
      "memory usage: 176.0+ bytes\n"
     ]
    }
   ],
   "source": [
    "# 생성된 데이터프레임 정보 확인하기.\n",
    "df.info()"
   ]
  },
  {
   "cell_type": "code",
   "execution_count": 9,
   "metadata": {},
   "outputs": [],
   "source": [
    "# 문의날짜 열(시리즈(Series)) 추가하기.\n",
    "df[\"문의날짜\"] = \"2023-04-07\""
   ]
  },
  {
   "cell_type": "code",
   "execution_count": 10,
   "metadata": {},
   "outputs": [],
   "source": [
    "# \"문의날짜2\" 열(시리즈(Series)) 추가하기.\n",
    "df[\"문의날짜2\"] = \"20230407\""
   ]
  },
  {
   "cell_type": "code",
   "execution_count": 11,
   "metadata": {},
   "outputs": [],
   "source": [
    "# \"문의날짜\" 열 영구 삭제하기.\n",
    "df.drop([\"문의날짜\"], axis=1, inplace=True)"
   ]
  },
  {
   "cell_type": "code",
   "execution_count": 12,
   "metadata": {},
   "outputs": [],
   "source": [
    "# \"문의날짜2\" 열 이름을 \"날짜\"로 영구히 바꾸기.\n",
    "df.rename(columns={\"문의날짜2\": \"날짜\"}, inplace=True)"
   ]
  },
  {
   "cell_type": "code",
   "execution_count": 13,
   "metadata": {},
   "outputs": [],
   "source": [
    "# \"날짜\" 열 데이터 변경하기.\n",
    "df[\"날짜\"] = \"2023-04-07\""
   ]
  },
  {
   "cell_type": "code",
   "execution_count": 14,
   "metadata": {},
   "outputs": [
    {
     "data": {
      "text/html": [
       "<div>\n",
       "<style scoped>\n",
       "    .dataframe tbody tr th:only-of-type {\n",
       "        vertical-align: middle;\n",
       "    }\n",
       "\n",
       "    .dataframe tbody tr th {\n",
       "        vertical-align: top;\n",
       "    }\n",
       "\n",
       "    .dataframe thead th {\n",
       "        text-align: right;\n",
       "    }\n",
       "</style>\n",
       "<table border=\"1\" class=\"dataframe\">\n",
       "  <thead>\n",
       "    <tr style=\"text-align: right;\">\n",
       "      <th></th>\n",
       "      <th>문서</th>\n",
       "      <th>날짜</th>\n",
       "    </tr>\n",
       "  </thead>\n",
       "  <tbody>\n",
       "    <tr>\n",
       "      <th>0</th>\n",
       "      <td>코로나 상생지원금 문의입니다.</td>\n",
       "      <td>2023-04-07</td>\n",
       "    </tr>\n",
       "    <tr>\n",
       "      <th>1</th>\n",
       "      <td>낮 12시 ~ 2시 지하철 운행시간 문의입니다.</td>\n",
       "      <td>2023-04-07</td>\n",
       "    </tr>\n",
       "    <tr>\n",
       "      <th>2</th>\n",
       "      <td>밤 12시 이후 버스 운행시간 문의입니다.</td>\n",
       "      <td>2023-04-07</td>\n",
       "    </tr>\n",
       "    <tr>\n",
       "      <th>3</th>\n",
       "      <td>사회적 거리두기로 인한 10시 이후 영업시간 안내입니다.</td>\n",
       "      <td>2023-04-07</td>\n",
       "    </tr>\n",
       "    <tr>\n",
       "      <th>4</th>\n",
       "      <td>Bus 운행시간 문의입니다.</td>\n",
       "      <td>2023-04-07</td>\n",
       "    </tr>\n",
       "    <tr>\n",
       "      <th>5</th>\n",
       "      <td>Taxi 승강장 문의입니다.</td>\n",
       "      <td>2023-04-07</td>\n",
       "    </tr>\n",
       "  </tbody>\n",
       "</table>\n",
       "</div>"
      ],
      "text/plain": [
       "                                문서          날짜\n",
       "0                 코로나 상생지원금 문의입니다.  2023-04-07\n",
       "1       낮 12시 ~ 2시 지하철 운행시간 문의입니다.  2023-04-07\n",
       "2          밤 12시 이후 버스 운행시간 문의입니다.  2023-04-07\n",
       "3  사회적 거리두기로 인한 10시 이후 영업시간 안내입니다.  2023-04-07\n",
       "4                  Bus 운행시간 문의입니다.  2023-04-07\n",
       "5                  Taxi 승강장 문의입니다.  2023-04-07"
      ]
     },
     "execution_count": 14,
     "metadata": {},
     "output_type": "execute_result"
    }
   ],
   "source": [
    "df"
   ]
  },
  {
   "cell_type": "code",
   "execution_count": 15,
   "metadata": {},
   "outputs": [
    {
     "data": {
      "text/html": [
       "<div>\n",
       "<style scoped>\n",
       "    .dataframe tbody tr th:only-of-type {\n",
       "        vertical-align: middle;\n",
       "    }\n",
       "\n",
       "    .dataframe tbody tr th {\n",
       "        vertical-align: top;\n",
       "    }\n",
       "\n",
       "    .dataframe thead th {\n",
       "        text-align: right;\n",
       "    }\n",
       "</style>\n",
       "<table border=\"1\" class=\"dataframe\">\n",
       "  <thead>\n",
       "    <tr style=\"text-align: right;\">\n",
       "      <th></th>\n",
       "      <th>문서</th>\n",
       "      <th>날짜</th>\n",
       "    </tr>\n",
       "  </thead>\n",
       "  <tbody>\n",
       "    <tr>\n",
       "      <th>0</th>\n",
       "      <td>코로나 상생지원금 문의입니다.</td>\n",
       "      <td>2023-04-07</td>\n",
       "    </tr>\n",
       "    <tr>\n",
       "      <th>1</th>\n",
       "      <td>낮 12시 ~ 2시 지하철 운행시간 문의입니다.</td>\n",
       "      <td>2023-04-07</td>\n",
       "    </tr>\n",
       "    <tr>\n",
       "      <th>2</th>\n",
       "      <td>밤 12시 이후 버스 운행시간 문의입니다.</td>\n",
       "      <td>2023-04-07</td>\n",
       "    </tr>\n",
       "    <tr>\n",
       "      <th>3</th>\n",
       "      <td>사회적 거리두기로 인한 10시 이후 영업시간 안내입니다.</td>\n",
       "      <td>2023-04-07</td>\n",
       "    </tr>\n",
       "    <tr>\n",
       "      <th>4</th>\n",
       "      <td>Bus 운행시간 문의입니다.</td>\n",
       "      <td>2023-04-07</td>\n",
       "    </tr>\n",
       "    <tr>\n",
       "      <th>5</th>\n",
       "      <td>Taxi 승강장 문의입니다.</td>\n",
       "      <td>2023-04-07</td>\n",
       "    </tr>\n",
       "  </tbody>\n",
       "</table>\n",
       "</div>"
      ],
      "text/plain": [
       "                                문서          날짜\n",
       "0                 코로나 상생지원금 문의입니다.  2023-04-07\n",
       "1       낮 12시 ~ 2시 지하철 운행시간 문의입니다.  2023-04-07\n",
       "2          밤 12시 이후 버스 운행시간 문의입니다.  2023-04-07\n",
       "3  사회적 거리두기로 인한 10시 이후 영업시간 안내입니다.  2023-04-07\n",
       "4                  Bus 운행시간 문의입니다.  2023-04-07\n",
       "5                  Taxi 승강장 문의입니다.  2023-04-07"
      ]
     },
     "execution_count": 15,
     "metadata": {},
     "output_type": "execute_result"
    }
   ],
   "source": [
    "df[[\"문서\", \"날짜\"]]"
   ]
  },
  {
   "cell_type": "code",
   "execution_count": 16,
   "metadata": {},
   "outputs": [
    {
     "data": {
      "text/plain": [
       "pandas.core.frame.DataFrame"
      ]
     },
     "execution_count": 16,
     "metadata": {},
     "output_type": "execute_result"
    }
   ],
   "source": [
    "type(df[[\"문서\", \"날짜\"]])"
   ]
  },
  {
   "cell_type": "code",
   "execution_count": 17,
   "metadata": {},
   "outputs": [
    {
     "data": {
      "text/html": [
       "<div>\n",
       "<style scoped>\n",
       "    .dataframe tbody tr th:only-of-type {\n",
       "        vertical-align: middle;\n",
       "    }\n",
       "\n",
       "    .dataframe tbody tr th {\n",
       "        vertical-align: top;\n",
       "    }\n",
       "\n",
       "    .dataframe thead th {\n",
       "        text-align: right;\n",
       "    }\n",
       "</style>\n",
       "<table border=\"1\" class=\"dataframe\">\n",
       "  <thead>\n",
       "    <tr style=\"text-align: right;\">\n",
       "      <th></th>\n",
       "      <th>문서</th>\n",
       "    </tr>\n",
       "  </thead>\n",
       "  <tbody>\n",
       "    <tr>\n",
       "      <th>0</th>\n",
       "      <td>코로나 상생지원금 문의입니다.</td>\n",
       "    </tr>\n",
       "    <tr>\n",
       "      <th>1</th>\n",
       "      <td>낮 12시 ~ 2시 지하철 운행시간 문의입니다.</td>\n",
       "    </tr>\n",
       "    <tr>\n",
       "      <th>2</th>\n",
       "      <td>밤 12시 이후 버스 운행시간 문의입니다.</td>\n",
       "    </tr>\n",
       "    <tr>\n",
       "      <th>3</th>\n",
       "      <td>사회적 거리두기로 인한 10시 이후 영업시간 안내입니다.</td>\n",
       "    </tr>\n",
       "    <tr>\n",
       "      <th>4</th>\n",
       "      <td>Bus 운행시간 문의입니다.</td>\n",
       "    </tr>\n",
       "    <tr>\n",
       "      <th>5</th>\n",
       "      <td>Taxi 승강장 문의입니다.</td>\n",
       "    </tr>\n",
       "  </tbody>\n",
       "</table>\n",
       "</div>"
      ],
      "text/plain": [
       "                                문서\n",
       "0                 코로나 상생지원금 문의입니다.\n",
       "1       낮 12시 ~ 2시 지하철 운행시간 문의입니다.\n",
       "2          밤 12시 이후 버스 운행시간 문의입니다.\n",
       "3  사회적 거리두기로 인한 10시 이후 영업시간 안내입니다.\n",
       "4                  Bus 운행시간 문의입니다.\n",
       "5                  Taxi 승강장 문의입니다."
      ]
     },
     "execution_count": 17,
     "metadata": {},
     "output_type": "execute_result"
    }
   ],
   "source": [
    "df[[\"문서\"]]"
   ]
  },
  {
   "cell_type": "code",
   "execution_count": 18,
   "metadata": {},
   "outputs": [
    {
     "data": {
      "text/plain": [
       "pandas.core.frame.DataFrame"
      ]
     },
     "execution_count": 18,
     "metadata": {},
     "output_type": "execute_result"
    }
   ],
   "source": [
    "type(df[[\"문서\"]])"
   ]
  },
  {
   "cell_type": "code",
   "execution_count": 19,
   "metadata": {},
   "outputs": [
    {
     "data": {
      "text/plain": [
       "0                   코로나 상생지원금 문의입니다.\n",
       "1         낮 12시 ~ 2시 지하철 운행시간 문의입니다.\n",
       "2            밤 12시 이후 버스 운행시간 문의입니다.\n",
       "3    사회적 거리두기로 인한 10시 이후 영업시간 안내입니다.\n",
       "4                    Bus 운행시간 문의입니다.\n",
       "5                    Taxi 승강장 문의입니다.\n",
       "Name: 문서, dtype: object"
      ]
     },
     "execution_count": 19,
     "metadata": {},
     "output_type": "execute_result"
    }
   ],
   "source": [
    "df[\"문서\"]"
   ]
  },
  {
   "cell_type": "code",
   "execution_count": 20,
   "metadata": {},
   "outputs": [
    {
     "data": {
      "text/plain": [
       "pandas.core.series.Series"
      ]
     },
     "execution_count": 20,
     "metadata": {},
     "output_type": "execute_result"
    }
   ],
   "source": [
    "type(df[\"문서\"])"
   ]
  },
  {
   "cell_type": "code",
   "execution_count": 21,
   "metadata": {},
   "outputs": [
    {
     "data": {
      "text/html": [
       "<div>\n",
       "<style scoped>\n",
       "    .dataframe tbody tr th:only-of-type {\n",
       "        vertical-align: middle;\n",
       "    }\n",
       "\n",
       "    .dataframe tbody tr th {\n",
       "        vertical-align: top;\n",
       "    }\n",
       "\n",
       "    .dataframe thead th {\n",
       "        text-align: right;\n",
       "    }\n",
       "</style>\n",
       "<table border=\"1\" class=\"dataframe\">\n",
       "  <thead>\n",
       "    <tr style=\"text-align: right;\">\n",
       "      <th></th>\n",
       "      <th>문서</th>\n",
       "      <th>날짜</th>\n",
       "    </tr>\n",
       "  </thead>\n",
       "  <tbody>\n",
       "    <tr>\n",
       "      <th>0</th>\n",
       "      <td>코로나 상생지원금 문의입니다.</td>\n",
       "      <td>2023-04-07</td>\n",
       "    </tr>\n",
       "  </tbody>\n",
       "</table>\n",
       "</div>"
      ],
      "text/plain": [
       "                 문서          날짜\n",
       "0  코로나 상생지원금 문의입니다.  2023-04-07"
      ]
     },
     "execution_count": 21,
     "metadata": {},
     "output_type": "execute_result"
    }
   ],
   "source": [
    "df.loc[[0]]"
   ]
  },
  {
   "cell_type": "code",
   "execution_count": 22,
   "metadata": {},
   "outputs": [
    {
     "data": {
      "text/html": [
       "<div>\n",
       "<style scoped>\n",
       "    .dataframe tbody tr th:only-of-type {\n",
       "        vertical-align: middle;\n",
       "    }\n",
       "\n",
       "    .dataframe tbody tr th {\n",
       "        vertical-align: top;\n",
       "    }\n",
       "\n",
       "    .dataframe thead th {\n",
       "        text-align: right;\n",
       "    }\n",
       "</style>\n",
       "<table border=\"1\" class=\"dataframe\">\n",
       "  <thead>\n",
       "    <tr style=\"text-align: right;\">\n",
       "      <th></th>\n",
       "      <th>문서</th>\n",
       "      <th>날짜</th>\n",
       "    </tr>\n",
       "  </thead>\n",
       "  <tbody>\n",
       "    <tr>\n",
       "      <th>0</th>\n",
       "      <td>코로나 상생지원금 문의입니다.</td>\n",
       "      <td>2023-04-07</td>\n",
       "    </tr>\n",
       "    <tr>\n",
       "      <th>1</th>\n",
       "      <td>낮 12시 ~ 2시 지하철 운행시간 문의입니다.</td>\n",
       "      <td>2023-04-07</td>\n",
       "    </tr>\n",
       "    <tr>\n",
       "      <th>2</th>\n",
       "      <td>밤 12시 이후 버스 운행시간 문의입니다.</td>\n",
       "      <td>2023-04-07</td>\n",
       "    </tr>\n",
       "    <tr>\n",
       "      <th>3</th>\n",
       "      <td>사회적 거리두기로 인한 10시 이후 영업시간 안내입니다.</td>\n",
       "      <td>2023-04-07</td>\n",
       "    </tr>\n",
       "  </tbody>\n",
       "</table>\n",
       "</div>"
      ],
      "text/plain": [
       "                                문서          날짜\n",
       "0                 코로나 상생지원금 문의입니다.  2023-04-07\n",
       "1       낮 12시 ~ 2시 지하철 운행시간 문의입니다.  2023-04-07\n",
       "2          밤 12시 이후 버스 운행시간 문의입니다.  2023-04-07\n",
       "3  사회적 거리두기로 인한 10시 이후 영업시간 안내입니다.  2023-04-07"
      ]
     },
     "execution_count": 22,
     "metadata": {},
     "output_type": "execute_result"
    }
   ],
   "source": [
    "df.loc[0:3, \"문서\":\"날짜\"]"
   ]
  },
  {
   "cell_type": "code",
   "execution_count": 23,
   "metadata": {},
   "outputs": [
    {
     "data": {
      "text/html": [
       "<div>\n",
       "<style scoped>\n",
       "    .dataframe tbody tr th:only-of-type {\n",
       "        vertical-align: middle;\n",
       "    }\n",
       "\n",
       "    .dataframe tbody tr th {\n",
       "        vertical-align: top;\n",
       "    }\n",
       "\n",
       "    .dataframe thead th {\n",
       "        text-align: right;\n",
       "    }\n",
       "</style>\n",
       "<table border=\"1\" class=\"dataframe\">\n",
       "  <thead>\n",
       "    <tr style=\"text-align: right;\">\n",
       "      <th></th>\n",
       "      <th>문서</th>\n",
       "      <th>날짜</th>\n",
       "    </tr>\n",
       "  </thead>\n",
       "  <tbody>\n",
       "    <tr>\n",
       "      <th>1</th>\n",
       "      <td>낮 12시 ~ 2시 지하철 운행시간 문의입니다.</td>\n",
       "      <td>2023-04-07</td>\n",
       "    </tr>\n",
       "    <tr>\n",
       "      <th>2</th>\n",
       "      <td>밤 12시 이후 버스 운행시간 문의입니다.</td>\n",
       "      <td>2023-04-07</td>\n",
       "    </tr>\n",
       "    <tr>\n",
       "      <th>3</th>\n",
       "      <td>사회적 거리두기로 인한 10시 이후 영업시간 안내입니다.</td>\n",
       "      <td>2023-04-07</td>\n",
       "    </tr>\n",
       "  </tbody>\n",
       "</table>\n",
       "</div>"
      ],
      "text/plain": [
       "                                문서          날짜\n",
       "1       낮 12시 ~ 2시 지하철 운행시간 문의입니다.  2023-04-07\n",
       "2          밤 12시 이후 버스 운행시간 문의입니다.  2023-04-07\n",
       "3  사회적 거리두기로 인한 10시 이후 영업시간 안내입니다.  2023-04-07"
      ]
     },
     "execution_count": 23,
     "metadata": {},
     "output_type": "execute_result"
    }
   ],
   "source": [
    "df.loc[[1, 2, 3], [\"문서\", \"날짜\"]]"
   ]
  },
  {
   "cell_type": "code",
   "execution_count": 24,
   "metadata": {},
   "outputs": [
    {
     "data": {
      "text/plain": [
       "'코로나 상생지원금 문의입니다.'"
      ]
     },
     "execution_count": 24,
     "metadata": {},
     "output_type": "execute_result"
    }
   ],
   "source": [
    "df.loc[0, \"문서\"]"
   ]
  },
  {
   "cell_type": "code",
   "execution_count": 25,
   "metadata": {},
   "outputs": [
    {
     "data": {
      "text/plain": [
       "str"
      ]
     },
     "execution_count": 25,
     "metadata": {},
     "output_type": "execute_result"
    }
   ],
   "source": [
    "type(df.loc[0, \"문서\"])"
   ]
  },
  {
   "cell_type": "code",
   "execution_count": 26,
   "metadata": {},
   "outputs": [
    {
     "data": {
      "text/html": [
       "<div>\n",
       "<style scoped>\n",
       "    .dataframe tbody tr th:only-of-type {\n",
       "        vertical-align: middle;\n",
       "    }\n",
       "\n",
       "    .dataframe tbody tr th {\n",
       "        vertical-align: top;\n",
       "    }\n",
       "\n",
       "    .dataframe thead th {\n",
       "        text-align: right;\n",
       "    }\n",
       "</style>\n",
       "<table border=\"1\" class=\"dataframe\">\n",
       "  <thead>\n",
       "    <tr style=\"text-align: right;\">\n",
       "      <th></th>\n",
       "      <th>날짜</th>\n",
       "    </tr>\n",
       "  </thead>\n",
       "  <tbody>\n",
       "    <tr>\n",
       "      <th>0</th>\n",
       "      <td>2023-04-07</td>\n",
       "    </tr>\n",
       "    <tr>\n",
       "      <th>1</th>\n",
       "      <td>2023-04-07</td>\n",
       "    </tr>\n",
       "    <tr>\n",
       "      <th>2</th>\n",
       "      <td>2023-04-07</td>\n",
       "    </tr>\n",
       "  </tbody>\n",
       "</table>\n",
       "</div>"
      ],
      "text/plain": [
       "           날짜\n",
       "0  2023-04-07\n",
       "1  2023-04-07\n",
       "2  2023-04-07"
      ]
     },
     "execution_count": 26,
     "metadata": {},
     "output_type": "execute_result"
    }
   ],
   "source": [
    "df.iloc[0:3, 1:]"
   ]
  },
  {
   "cell_type": "code",
   "execution_count": 27,
   "metadata": {},
   "outputs": [
    {
     "name": "stdout",
     "output_type": "stream",
     "text": [
      "<class 'pandas.core.series.Series'> <class 'pandas.core.frame.DataFrame'> , \n"
     ]
    }
   ],
   "source": [
    "print(type(df[\"문서\"]), type(df[[\"문서\"]]), \", \")\n"
   ]
  },
  {
   "cell_type": "code",
   "execution_count": 28,
   "metadata": {},
   "outputs": [
    {
     "data": {
      "text/plain": [
       "0                   코로나 상생지원금 문의입니다.\n",
       "1         낮 12시 ~ 2시 지하철 운행시간 문의입니다.\n",
       "2            밤 12시 이후 버스 운행시간 문의입니다.\n",
       "3    사회적 거리두기로 인한 10시 이후 영업시간 안내입니다.\n",
       "4                    bus 운행시간 문의입니다.\n",
       "5                    taxi 승강장 문의입니다.\n",
       "Name: 문서, dtype: object"
      ]
     },
     "execution_count": 28,
     "metadata": {},
     "output_type": "execute_result"
    }
   ],
   "source": [
    "df[\"문서\"].str.lower()"
   ]
  },
  {
   "cell_type": "code",
   "execution_count": 29,
   "metadata": {},
   "outputs": [
    {
     "data": {
      "text/plain": [
       "0                   코로나 상생지원금 문의입니다.\n",
       "1         낮 12시 ~ 2시 지하철 운행시간 문의입니다.\n",
       "2            밤 12시 이후 버스 운행시간 문의입니다.\n",
       "3    사회적 거리두기로 인한 10시 이후 영업시간 안내입니다.\n",
       "4                    BUS 운행시간 문의입니다.\n",
       "5                    TAXI 승강장 문의입니다.\n",
       "Name: 문서, dtype: object"
      ]
     },
     "execution_count": 29,
     "metadata": {},
     "output_type": "execute_result"
    }
   ],
   "source": [
    "df[\"문서\"].str.upper()"
   ]
  },
  {
   "cell_type": "code",
   "execution_count": 30,
   "metadata": {},
   "outputs": [
    {
     "data": {
      "text/plain": [
       "0    16\n",
       "1    26\n",
       "2    23\n",
       "3    31\n",
       "4    15\n",
       "5    15\n",
       "Name: 문서, dtype: int64"
      ]
     },
     "execution_count": 30,
     "metadata": {},
     "output_type": "execute_result"
    }
   ],
   "source": [
    "df[\"문서\"].str.strip().str.len()"
   ]
  },
  {
   "cell_type": "code",
   "execution_count": 31,
   "metadata": {},
   "outputs": [
    {
     "data": {
      "text/html": [
       "<div>\n",
       "<style scoped>\n",
       "    .dataframe tbody tr th:only-of-type {\n",
       "        vertical-align: middle;\n",
       "    }\n",
       "\n",
       "    .dataframe tbody tr th {\n",
       "        vertical-align: top;\n",
       "    }\n",
       "\n",
       "    .dataframe thead th {\n",
       "        text-align: right;\n",
       "    }\n",
       "</style>\n",
       "<table border=\"1\" class=\"dataframe\">\n",
       "  <thead>\n",
       "    <tr style=\"text-align: right;\">\n",
       "      <th></th>\n",
       "      <th>1</th>\n",
       "      <th>2</th>\n",
       "      <th>3</th>\n",
       "      <th>4</th>\n",
       "      <th>5</th>\n",
       "    </tr>\n",
       "  </thead>\n",
       "  <tbody>\n",
       "    <tr>\n",
       "      <th>0</th>\n",
       "      <td>상생지원금</td>\n",
       "      <td>문의입니다.</td>\n",
       "      <td>None</td>\n",
       "      <td>None</td>\n",
       "      <td>None</td>\n",
       "    </tr>\n",
       "    <tr>\n",
       "      <th>1</th>\n",
       "      <td>12시</td>\n",
       "      <td>~</td>\n",
       "      <td>2시</td>\n",
       "      <td>지하철</td>\n",
       "      <td>운행시간</td>\n",
       "    </tr>\n",
       "  </tbody>\n",
       "</table>\n",
       "</div>"
      ],
      "text/plain": [
       "       1       2     3     4     5\n",
       "0  상생지원금  문의입니다.  None  None  None\n",
       "1    12시       ~    2시   지하철  운행시간"
      ]
     },
     "execution_count": 31,
     "metadata": {},
     "output_type": "execute_result"
    }
   ],
   "source": [
    "df[\"문서\"].str.split(expand=True).loc[0:1, 1:5]"
   ]
  },
  {
   "cell_type": "code",
   "execution_count": 32,
   "metadata": {},
   "outputs": [
    {
     "data": {
      "text/plain": [
       "pandas.core.frame.DataFrame"
      ]
     },
     "execution_count": 32,
     "metadata": {},
     "output_type": "execute_result"
    }
   ],
   "source": [
    "type(df[\"문서\"].str.split(expand=True))"
   ]
  },
  {
   "cell_type": "code",
   "execution_count": 33,
   "metadata": {},
   "outputs": [
    {
     "data": {
      "text/html": [
       "<div>\n",
       "<style scoped>\n",
       "    .dataframe tbody tr th:only-of-type {\n",
       "        vertical-align: middle;\n",
       "    }\n",
       "\n",
       "    .dataframe tbody tr th {\n",
       "        vertical-align: top;\n",
       "    }\n",
       "\n",
       "    .dataframe thead th {\n",
       "        text-align: right;\n",
       "    }\n",
       "</style>\n",
       "<table border=\"1\" class=\"dataframe\">\n",
       "  <thead>\n",
       "    <tr style=\"text-align: right;\">\n",
       "      <th></th>\n",
       "      <th>0</th>\n",
       "      <th>1</th>\n",
       "    </tr>\n",
       "  </thead>\n",
       "  <tbody>\n",
       "    <tr>\n",
       "      <th>0</th>\n",
       "      <td>코로나 상생지원금</td>\n",
       "      <td>입니다.</td>\n",
       "    </tr>\n",
       "    <tr>\n",
       "      <th>1</th>\n",
       "      <td>낮 12시 ~ 2시 지하철 운행시간</td>\n",
       "      <td>입니다.</td>\n",
       "    </tr>\n",
       "    <tr>\n",
       "      <th>2</th>\n",
       "      <td>밤 12시 이후 버스 운행시간</td>\n",
       "      <td>입니다.</td>\n",
       "    </tr>\n",
       "    <tr>\n",
       "      <th>3</th>\n",
       "      <td>사회적 거리두기로 인한 10시 이후 영업시간 안내입니다.</td>\n",
       "      <td>None</td>\n",
       "    </tr>\n",
       "    <tr>\n",
       "      <th>4</th>\n",
       "      <td>Bus 운행시간</td>\n",
       "      <td>입니다.</td>\n",
       "    </tr>\n",
       "    <tr>\n",
       "      <th>5</th>\n",
       "      <td>Taxi 승강장</td>\n",
       "      <td>입니다.</td>\n",
       "    </tr>\n",
       "  </tbody>\n",
       "</table>\n",
       "</div>"
      ],
      "text/plain": [
       "                                 0     1\n",
       "0                       코로나 상생지원금   입니다.\n",
       "1             낮 12시 ~ 2시 지하철 운행시간   입니다.\n",
       "2                밤 12시 이후 버스 운행시간   입니다.\n",
       "3  사회적 거리두기로 인한 10시 이후 영업시간 안내입니다.  None\n",
       "4                        Bus 운행시간   입니다.\n",
       "5                        Taxi 승강장   입니다."
      ]
     },
     "execution_count": 33,
     "metadata": {},
     "output_type": "execute_result"
    }
   ],
   "source": [
    "df[\"문서\"].str.split(\"문의\", expand=True)"
   ]
  },
  {
   "cell_type": "code",
   "execution_count": 34,
   "metadata": {},
   "outputs": [
    {
     "data": {
      "text/plain": [
       "0    False\n",
       "1    False\n",
       "2     True\n",
       "3    False\n",
       "4    False\n",
       "5    False\n",
       "Name: 문서, dtype: bool"
      ]
     },
     "execution_count": 34,
     "metadata": {},
     "output_type": "execute_result"
    }
   ],
   "source": [
    "df[\"문서\"].str.contains(\"버스\")"
   ]
  },
  {
   "cell_type": "code",
   "execution_count": 35,
   "metadata": {},
   "outputs": [
    {
     "data": {
      "text/html": [
       "<div>\n",
       "<style scoped>\n",
       "    .dataframe tbody tr th:only-of-type {\n",
       "        vertical-align: middle;\n",
       "    }\n",
       "\n",
       "    .dataframe tbody tr th {\n",
       "        vertical-align: top;\n",
       "    }\n",
       "\n",
       "    .dataframe thead th {\n",
       "        text-align: right;\n",
       "    }\n",
       "</style>\n",
       "<table border=\"1\" class=\"dataframe\">\n",
       "  <thead>\n",
       "    <tr style=\"text-align: right;\">\n",
       "      <th></th>\n",
       "      <th>날짜</th>\n",
       "    </tr>\n",
       "  </thead>\n",
       "  <tbody>\n",
       "    <tr>\n",
       "      <th>0</th>\n",
       "      <td>2023-04-07</td>\n",
       "    </tr>\n",
       "    <tr>\n",
       "      <th>1</th>\n",
       "      <td>2023-04-07</td>\n",
       "    </tr>\n",
       "    <tr>\n",
       "      <th>2</th>\n",
       "      <td>2023-04-07</td>\n",
       "    </tr>\n",
       "    <tr>\n",
       "      <th>3</th>\n",
       "      <td>2023-04-07</td>\n",
       "    </tr>\n",
       "    <tr>\n",
       "      <th>4</th>\n",
       "      <td>2023-04-07</td>\n",
       "    </tr>\n",
       "    <tr>\n",
       "      <th>5</th>\n",
       "      <td>2023-04-07</td>\n",
       "    </tr>\n",
       "  </tbody>\n",
       "</table>\n",
       "</div>"
      ],
      "text/plain": [
       "           날짜\n",
       "0  2023-04-07\n",
       "1  2023-04-07\n",
       "2  2023-04-07\n",
       "3  2023-04-07\n",
       "4  2023-04-07\n",
       "5  2023-04-07"
      ]
     },
     "execution_count": 35,
     "metadata": {},
     "output_type": "execute_result"
    }
   ],
   "source": [
    "df[df[\"날짜\"] > \"2023-04-03\"][[\"날짜\"]]"
   ]
  },
  {
   "cell_type": "code",
   "execution_count": 36,
   "metadata": {},
   "outputs": [],
   "source": [
    "df[\"날짜\"] = pd.date_range(\"2023-04-01\", periods=6)"
   ]
  },
  {
   "cell_type": "code",
   "execution_count": 37,
   "metadata": {},
   "outputs": [
    {
     "data": {
      "text/html": [
       "<div>\n",
       "<style scoped>\n",
       "    .dataframe tbody tr th:only-of-type {\n",
       "        vertical-align: middle;\n",
       "    }\n",
       "\n",
       "    .dataframe tbody tr th {\n",
       "        vertical-align: top;\n",
       "    }\n",
       "\n",
       "    .dataframe thead th {\n",
       "        text-align: right;\n",
       "    }\n",
       "</style>\n",
       "<table border=\"1\" class=\"dataframe\">\n",
       "  <thead>\n",
       "    <tr style=\"text-align: right;\">\n",
       "      <th></th>\n",
       "      <th>문서</th>\n",
       "      <th>날짜</th>\n",
       "    </tr>\n",
       "  </thead>\n",
       "  <tbody>\n",
       "    <tr>\n",
       "      <th>0</th>\n",
       "      <td>코로나 상생지원금 문의입니다.</td>\n",
       "      <td>2023-04-01</td>\n",
       "    </tr>\n",
       "    <tr>\n",
       "      <th>1</th>\n",
       "      <td>낮 12시 ~ 2시 지하철 운행시간 문의입니다.</td>\n",
       "      <td>2023-04-02</td>\n",
       "    </tr>\n",
       "    <tr>\n",
       "      <th>2</th>\n",
       "      <td>밤 12시 이후 버스 운행시간 문의입니다.</td>\n",
       "      <td>2023-04-03</td>\n",
       "    </tr>\n",
       "    <tr>\n",
       "      <th>3</th>\n",
       "      <td>사회적 거리두기로 인한 10시 이후 영업시간 안내입니다.</td>\n",
       "      <td>2023-04-04</td>\n",
       "    </tr>\n",
       "    <tr>\n",
       "      <th>4</th>\n",
       "      <td>Bus 운행시간 문의입니다.</td>\n",
       "      <td>2023-04-05</td>\n",
       "    </tr>\n",
       "    <tr>\n",
       "      <th>5</th>\n",
       "      <td>Taxi 승강장 문의입니다.</td>\n",
       "      <td>2023-04-06</td>\n",
       "    </tr>\n",
       "  </tbody>\n",
       "</table>\n",
       "</div>"
      ],
      "text/plain": [
       "                                문서         날짜\n",
       "0                 코로나 상생지원금 문의입니다. 2023-04-01\n",
       "1       낮 12시 ~ 2시 지하철 운행시간 문의입니다. 2023-04-02\n",
       "2          밤 12시 이후 버스 운행시간 문의입니다. 2023-04-03\n",
       "3  사회적 거리두기로 인한 10시 이후 영업시간 안내입니다. 2023-04-04\n",
       "4                  Bus 운행시간 문의입니다. 2023-04-05\n",
       "5                  Taxi 승강장 문의입니다. 2023-04-06"
      ]
     },
     "execution_count": 37,
     "metadata": {},
     "output_type": "execute_result"
    }
   ],
   "source": [
    "df"
   ]
  },
  {
   "cell_type": "code",
   "execution_count": 38,
   "metadata": {},
   "outputs": [
    {
     "data": {
      "text/html": [
       "<div>\n",
       "<style scoped>\n",
       "    .dataframe tbody tr th:only-of-type {\n",
       "        vertical-align: middle;\n",
       "    }\n",
       "\n",
       "    .dataframe tbody tr th {\n",
       "        vertical-align: top;\n",
       "    }\n",
       "\n",
       "    .dataframe thead th {\n",
       "        text-align: right;\n",
       "    }\n",
       "</style>\n",
       "<table border=\"1\" class=\"dataframe\">\n",
       "  <thead>\n",
       "    <tr style=\"text-align: right;\">\n",
       "      <th></th>\n",
       "      <th>문서</th>\n",
       "      <th>날짜</th>\n",
       "      <th>문의</th>\n",
       "    </tr>\n",
       "  </thead>\n",
       "  <tbody>\n",
       "    <tr>\n",
       "      <th>0</th>\n",
       "      <td>코로나 상생지원금 문의입니다.</td>\n",
       "      <td>2023-04-01</td>\n",
       "      <td>True</td>\n",
       "    </tr>\n",
       "    <tr>\n",
       "      <th>1</th>\n",
       "      <td>낮 12시 ~ 2시 지하철 운행시간 문의입니다.</td>\n",
       "      <td>2023-04-02</td>\n",
       "      <td>True</td>\n",
       "    </tr>\n",
       "    <tr>\n",
       "      <th>2</th>\n",
       "      <td>밤 12시 이후 버스 운행시간 문의입니다.</td>\n",
       "      <td>2023-04-03</td>\n",
       "      <td>True</td>\n",
       "    </tr>\n",
       "    <tr>\n",
       "      <th>3</th>\n",
       "      <td>사회적 거리두기로 인한 10시 이후 영업시간 안내입니다.</td>\n",
       "      <td>2023-04-04</td>\n",
       "      <td>False</td>\n",
       "    </tr>\n",
       "    <tr>\n",
       "      <th>4</th>\n",
       "      <td>Bus 운행시간 문의입니다.</td>\n",
       "      <td>2023-04-05</td>\n",
       "      <td>True</td>\n",
       "    </tr>\n",
       "    <tr>\n",
       "      <th>5</th>\n",
       "      <td>Taxi 승강장 문의입니다.</td>\n",
       "      <td>2023-04-06</td>\n",
       "      <td>True</td>\n",
       "    </tr>\n",
       "  </tbody>\n",
       "</table>\n",
       "</div>"
      ],
      "text/plain": [
       "                                문서         날짜     문의\n",
       "0                 코로나 상생지원금 문의입니다. 2023-04-01   True\n",
       "1       낮 12시 ~ 2시 지하철 운행시간 문의입니다. 2023-04-02   True\n",
       "2          밤 12시 이후 버스 운행시간 문의입니다. 2023-04-03   True\n",
       "3  사회적 거리두기로 인한 10시 이후 영업시간 안내입니다. 2023-04-04  False\n",
       "4                  Bus 운행시간 문의입니다. 2023-04-05   True\n",
       "5                  Taxi 승강장 문의입니다. 2023-04-06   True"
      ]
     },
     "execution_count": 38,
     "metadata": {},
     "output_type": "execute_result"
    }
   ],
   "source": [
    "df[\"문의\"] = df[\"문서\"].str.contains(\"문의\")\n",
    "\n",
    "# df.drop(\"문의\", axis=1, inplace=True)\n",
    "df"
   ]
  },
  {
   "cell_type": "code",
   "execution_count": 39,
   "metadata": {},
   "outputs": [
    {
     "data": {
      "text/html": [
       "<div>\n",
       "<style scoped>\n",
       "    .dataframe tbody tr th:only-of-type {\n",
       "        vertical-align: middle;\n",
       "    }\n",
       "\n",
       "    .dataframe tbody tr th {\n",
       "        vertical-align: top;\n",
       "    }\n",
       "\n",
       "    .dataframe thead th {\n",
       "        text-align: right;\n",
       "    }\n",
       "</style>\n",
       "<table border=\"1\" class=\"dataframe\">\n",
       "  <thead>\n",
       "    <tr style=\"text-align: right;\">\n",
       "      <th></th>\n",
       "      <th>문서</th>\n",
       "      <th>날짜</th>\n",
       "      <th>문의</th>\n",
       "      <th>안내</th>\n",
       "    </tr>\n",
       "  </thead>\n",
       "  <tbody>\n",
       "    <tr>\n",
       "      <th>0</th>\n",
       "      <td>코로나 상생지원금 문의입니다.</td>\n",
       "      <td>2023-04-01</td>\n",
       "      <td>True</td>\n",
       "      <td>False</td>\n",
       "    </tr>\n",
       "    <tr>\n",
       "      <th>1</th>\n",
       "      <td>낮 12시 ~ 2시 지하철 운행시간 문의입니다.</td>\n",
       "      <td>2023-04-02</td>\n",
       "      <td>True</td>\n",
       "      <td>False</td>\n",
       "    </tr>\n",
       "    <tr>\n",
       "      <th>2</th>\n",
       "      <td>밤 12시 이후 버스 운행시간 문의입니다.</td>\n",
       "      <td>2023-04-03</td>\n",
       "      <td>True</td>\n",
       "      <td>False</td>\n",
       "    </tr>\n",
       "    <tr>\n",
       "      <th>3</th>\n",
       "      <td>사회적 거리두기로 인한 10시 이후 영업시간 안내입니다.</td>\n",
       "      <td>2023-04-04</td>\n",
       "      <td>False</td>\n",
       "      <td>True</td>\n",
       "    </tr>\n",
       "    <tr>\n",
       "      <th>4</th>\n",
       "      <td>Bus 운행시간 문의입니다.</td>\n",
       "      <td>2023-04-05</td>\n",
       "      <td>True</td>\n",
       "      <td>False</td>\n",
       "    </tr>\n",
       "    <tr>\n",
       "      <th>5</th>\n",
       "      <td>Taxi 승강장 문의입니다.</td>\n",
       "      <td>2023-04-06</td>\n",
       "      <td>True</td>\n",
       "      <td>False</td>\n",
       "    </tr>\n",
       "  </tbody>\n",
       "</table>\n",
       "</div>"
      ],
      "text/plain": [
       "                                문서         날짜     문의     안내\n",
       "0                 코로나 상생지원금 문의입니다. 2023-04-01   True  False\n",
       "1       낮 12시 ~ 2시 지하철 운행시간 문의입니다. 2023-04-02   True  False\n",
       "2          밤 12시 이후 버스 운행시간 문의입니다. 2023-04-03   True  False\n",
       "3  사회적 거리두기로 인한 10시 이후 영업시간 안내입니다. 2023-04-04  False   True\n",
       "4                  Bus 운행시간 문의입니다. 2023-04-05   True  False\n",
       "5                  Taxi 승강장 문의입니다. 2023-04-06   True  False"
      ]
     },
     "execution_count": 39,
     "metadata": {},
     "output_type": "execute_result"
    }
   ],
   "source": [
    "df[\"안내\"] = df[\"문서\"].str.contains(\"안내\")\n",
    "df"
   ]
  },
  {
   "cell_type": "code",
   "execution_count": 40,
   "metadata": {},
   "outputs": [
    {
     "data": {
      "text/plain": [
       "0                   코로나 상생지원금 문의입니다.\n",
       "1        낮 12시 ~ 2시 대중교통 운행시간 문의입니다.\n",
       "2          밤 12시 이후 대중교통 운행시간 문의입니다.\n",
       "3    사회적 거리두기로 인한 10시 이후 영업시간 안내입니다.\n",
       "4                    Bus 운행시간 문의입니다.\n",
       "5                    Taxi 승강장 문의입니다.\n",
       "Name: 문서, dtype: object"
      ]
     },
     "execution_count": 40,
     "metadata": {},
     "output_type": "execute_result"
    }
   ],
   "source": [
    "df[\"문서\"].str.replace(\"버스|지하철\", \"대중교통\", regex=True)"
   ]
  },
  {
   "cell_type": "code",
   "execution_count": 41,
   "metadata": {},
   "outputs": [
    {
     "data": {
      "text/html": [
       "<div>\n",
       "<style scoped>\n",
       "    .dataframe tbody tr th:only-of-type {\n",
       "        vertical-align: middle;\n",
       "    }\n",
       "\n",
       "    .dataframe tbody tr th {\n",
       "        vertical-align: top;\n",
       "    }\n",
       "\n",
       "    .dataframe thead th {\n",
       "        text-align: right;\n",
       "    }\n",
       "</style>\n",
       "<table border=\"1\" class=\"dataframe\">\n",
       "  <thead>\n",
       "    <tr style=\"text-align: right;\">\n",
       "      <th></th>\n",
       "      <th>문서</th>\n",
       "      <th>날짜</th>\n",
       "      <th>문의</th>\n",
       "      <th>안내</th>\n",
       "    </tr>\n",
       "  </thead>\n",
       "  <tbody>\n",
       "    <tr>\n",
       "      <th>0</th>\n",
       "      <td>코로나 상생지원금 문의입니다.</td>\n",
       "      <td>2023-04-09 01:22:31.578019</td>\n",
       "      <td>True</td>\n",
       "      <td>False</td>\n",
       "    </tr>\n",
       "    <tr>\n",
       "      <th>1</th>\n",
       "      <td>낮 12시 ~ 2시 지하철 운행시간 문의입니다.</td>\n",
       "      <td>2023-04-02 00:00:00.000000</td>\n",
       "      <td>True</td>\n",
       "      <td>False</td>\n",
       "    </tr>\n",
       "    <tr>\n",
       "      <th>2</th>\n",
       "      <td>밤 12시 이후 버스 운행시간 문의입니다.</td>\n",
       "      <td>2023-04-03 00:00:00.000000</td>\n",
       "      <td>True</td>\n",
       "      <td>False</td>\n",
       "    </tr>\n",
       "    <tr>\n",
       "      <th>3</th>\n",
       "      <td>사회적 거리두기로 인한 10시 이후 영업시간 안내입니다.</td>\n",
       "      <td>2023-04-04 00:00:00.000000</td>\n",
       "      <td>False</td>\n",
       "      <td>True</td>\n",
       "    </tr>\n",
       "    <tr>\n",
       "      <th>4</th>\n",
       "      <td>Bus 운행시간 문의입니다.</td>\n",
       "      <td>2023-04-05 00:00:00.000000</td>\n",
       "      <td>True</td>\n",
       "      <td>False</td>\n",
       "    </tr>\n",
       "    <tr>\n",
       "      <th>5</th>\n",
       "      <td>Taxi 승강장 문의입니다.</td>\n",
       "      <td>2023-04-06 00:00:00.000000</td>\n",
       "      <td>True</td>\n",
       "      <td>False</td>\n",
       "    </tr>\n",
       "  </tbody>\n",
       "</table>\n",
       "</div>"
      ],
      "text/plain": [
       "                                문서                         날짜     문의     안내\n",
       "0                 코로나 상생지원금 문의입니다. 2023-04-09 01:22:31.578019   True  False\n",
       "1       낮 12시 ~ 2시 지하철 운행시간 문의입니다. 2023-04-02 00:00:00.000000   True  False\n",
       "2          밤 12시 이후 버스 운행시간 문의입니다. 2023-04-03 00:00:00.000000   True  False\n",
       "3  사회적 거리두기로 인한 10시 이후 영업시간 안내입니다. 2023-04-04 00:00:00.000000  False   True\n",
       "4                  Bus 운행시간 문의입니다. 2023-04-05 00:00:00.000000   True  False\n",
       "5                  Taxi 승강장 문의입니다. 2023-04-06 00:00:00.000000   True  False"
      ]
     },
     "execution_count": 41,
     "metadata": {},
     "output_type": "execute_result"
    }
   ],
   "source": [
    "import datetime\n",
    "\n",
    "# df.replace(\"운행\", \"영업\", regex=True)\n",
    "\n",
    "df.replace({\"2023-04-01\": datetime.datetime.today()})"
   ]
  },
  {
   "cell_type": "code",
   "execution_count": 42,
   "metadata": {},
   "outputs": [
    {
     "data": {
      "text/plain": [
       "0                 코로나 상생지원금 문의입니다.\n",
       "1          낮 시 ~ 시 지하철 운행시간 문의입니다.\n",
       "2            밤 시 이후 버스 운행시간 문의입니다.\n",
       "3    사회적 거리두기로 인한 시 이후 영업시간 안내입니다.\n",
       "4                  Bus 운행시간 문의입니다.\n",
       "5                  Taxi 승강장 문의입니다.\n",
       "Name: 문서, dtype: object"
      ]
     },
     "execution_count": 42,
     "metadata": {},
     "output_type": "execute_result"
    }
   ],
   "source": [
    "df[\"문서\"].str.replace(\"[0-9]\", \"\", regex=True)"
   ]
  },
  {
   "cell_type": "code",
   "execution_count": 43,
   "metadata": {},
   "outputs": [
    {
     "data": {
      "text/plain": [
       "0    코로나\n",
       "1    낮 1\n",
       "2    밤 1\n",
       "3    사회적\n",
       "4    Bus\n",
       "5    Tax\n",
       "Name: 문서, dtype: object"
      ]
     },
     "execution_count": 43,
     "metadata": {},
     "output_type": "execute_result"
    }
   ],
   "source": [
    "df[\"문서\"].str[0:3]"
   ]
  },
  {
   "cell_type": "code",
   "execution_count": 44,
   "metadata": {},
   "outputs": [
    {
     "data": {
      "text/plain": [
       "0    16\n",
       "1    26\n",
       "2    23\n",
       "3    31\n",
       "4    15\n",
       "5    15\n",
       "Name: 문서, dtype: int64"
      ]
     },
     "execution_count": 44,
     "metadata": {},
     "output_type": "execute_result"
    }
   ],
   "source": [
    "df[\"문서\"].map(lambda x : len(x))"
   ]
  },
  {
   "cell_type": "code",
   "execution_count": 45,
   "metadata": {},
   "outputs": [
    {
     "data": {
      "text/plain": [
       "0    3\n",
       "1    7\n",
       "2    6\n",
       "3    7\n",
       "4    3\n",
       "5    3\n",
       "Name: 문서, dtype: int64"
      ]
     },
     "execution_count": 45,
     "metadata": {},
     "output_type": "execute_result"
    }
   ],
   "source": [
    "df[\"문서\"].map(lambda x : len(x.split()))"
   ]
  },
  {
   "cell_type": "code",
   "execution_count": 51,
   "metadata": {},
   "outputs": [],
   "source": [
    "df.to_csv(\"data/test_text.csv\", index=False)"
   ]
  },
  {
   "cell_type": "code",
   "execution_count": 52,
   "metadata": {},
   "outputs": [
    {
     "data": {
      "text/html": [
       "<div>\n",
       "<style scoped>\n",
       "    .dataframe tbody tr th:only-of-type {\n",
       "        vertical-align: middle;\n",
       "    }\n",
       "\n",
       "    .dataframe tbody tr th {\n",
       "        vertical-align: top;\n",
       "    }\n",
       "\n",
       "    .dataframe thead th {\n",
       "        text-align: right;\n",
       "    }\n",
       "</style>\n",
       "<table border=\"1\" class=\"dataframe\">\n",
       "  <thead>\n",
       "    <tr style=\"text-align: right;\">\n",
       "      <th></th>\n",
       "      <th>문서</th>\n",
       "      <th>날짜</th>\n",
       "      <th>문의</th>\n",
       "      <th>안내</th>\n",
       "    </tr>\n",
       "  </thead>\n",
       "  <tbody>\n",
       "    <tr>\n",
       "      <th>0</th>\n",
       "      <td>코로나 상생지원금 문의입니다.</td>\n",
       "      <td>2023-04-01</td>\n",
       "      <td>True</td>\n",
       "      <td>False</td>\n",
       "    </tr>\n",
       "    <tr>\n",
       "      <th>1</th>\n",
       "      <td>낮 12시 ~ 2시 지하철 운행시간 문의입니다.</td>\n",
       "      <td>2023-04-02</td>\n",
       "      <td>True</td>\n",
       "      <td>False</td>\n",
       "    </tr>\n",
       "    <tr>\n",
       "      <th>2</th>\n",
       "      <td>밤 12시 이후 버스 운행시간 문의입니다.</td>\n",
       "      <td>2023-04-03</td>\n",
       "      <td>True</td>\n",
       "      <td>False</td>\n",
       "    </tr>\n",
       "    <tr>\n",
       "      <th>3</th>\n",
       "      <td>사회적 거리두기로 인한 10시 이후 영업시간 안내입니다.</td>\n",
       "      <td>2023-04-04</td>\n",
       "      <td>False</td>\n",
       "      <td>True</td>\n",
       "    </tr>\n",
       "    <tr>\n",
       "      <th>4</th>\n",
       "      <td>Bus 운행시간 문의입니다.</td>\n",
       "      <td>2023-04-05</td>\n",
       "      <td>True</td>\n",
       "      <td>False</td>\n",
       "    </tr>\n",
       "    <tr>\n",
       "      <th>5</th>\n",
       "      <td>Taxi 승강장 문의입니다.</td>\n",
       "      <td>2023-04-06</td>\n",
       "      <td>True</td>\n",
       "      <td>False</td>\n",
       "    </tr>\n",
       "  </tbody>\n",
       "</table>\n",
       "</div>"
      ],
      "text/plain": [
       "                                문서          날짜     문의     안내\n",
       "0                 코로나 상생지원금 문의입니다.  2023-04-01   True  False\n",
       "1       낮 12시 ~ 2시 지하철 운행시간 문의입니다.  2023-04-02   True  False\n",
       "2          밤 12시 이후 버스 운행시간 문의입니다.  2023-04-03   True  False\n",
       "3  사회적 거리두기로 인한 10시 이후 영업시간 안내입니다.  2023-04-04  False   True\n",
       "4                  Bus 운행시간 문의입니다.  2023-04-05   True  False\n",
       "5                  Taxi 승강장 문의입니다.  2023-04-06   True  False"
      ]
     },
     "execution_count": 52,
     "metadata": {},
     "output_type": "execute_result"
    }
   ],
   "source": [
    "pd.read_csv(\"data/test_text.csv\")"
   ]
  }
 ],
 "metadata": {
  "kernelspec": {
   "display_name": "system_trading_py39_64",
   "language": "python",
   "name": "python3"
  },
  "language_info": {
   "codemirror_mode": {
    "name": "ipython",
    "version": 3
   },
   "file_extension": ".py",
   "mimetype": "text/x-python",
   "name": "python",
   "nbconvert_exporter": "python",
   "pygments_lexer": "ipython3",
   "version": "3.9.16"
  },
  "orig_nbformat": 4
 },
 "nbformat": 4,
 "nbformat_minor": 2
}
