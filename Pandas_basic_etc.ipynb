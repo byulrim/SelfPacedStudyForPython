{
 "cells": [
  {
   "cell_type": "code",
   "execution_count": null,
   "metadata": {},
   "outputs": [],
   "source": [
    "import pandas as pd"
   ]
  },
  {
   "cell_type": "code",
   "execution_count": null,
   "metadata": {},
   "outputs": [],
   "source": [
    "df = pd.read_csv(\"data/titanic/train.csv\")"
   ]
  },
  {
   "cell_type": "code",
   "execution_count": null,
   "metadata": {},
   "outputs": [],
   "source": [
    "df.shape"
   ]
  },
  {
   "cell_type": "code",
   "execution_count": null,
   "metadata": {},
   "outputs": [],
   "source": [
    "df.head()"
   ]
  },
  {
   "cell_type": "code",
   "execution_count": null,
   "metadata": {},
   "outputs": [],
   "source": [
    "df[df[\"Age\"] > 70].head(1)"
   ]
  },
  {
   "cell_type": "code",
   "execution_count": null,
   "metadata": {},
   "outputs": [],
   "source": [
    "df[[\"PassengerId\", \"Survived\"]]"
   ]
  },
  {
   "cell_type": "code",
   "execution_count": null,
   "metadata": {},
   "outputs": [],
   "source": [
    "df_older_class = df[(df[\"Age\"] > 60) & (df[\"Pclass\"] == 1)]"
   ]
  },
  {
   "cell_type": "code",
   "execution_count": null,
   "metadata": {},
   "outputs": [],
   "source": [
    "df[[\"Age\", \"Pclass\"]]"
   ]
  },
  {
   "cell_type": "code",
   "execution_count": null,
   "metadata": {},
   "outputs": [],
   "source": [
    "df_older_class.shape"
   ]
  },
  {
   "cell_type": "code",
   "execution_count": null,
   "metadata": {},
   "outputs": [],
   "source": [
    "df_older_class[[\"PassengerId\", \"Survived\"]]"
   ]
  },
  {
   "cell_type": "markdown",
   "metadata": {},
   "source": [
    "#### 1. Lab: 사용자 입력 받아 처리하기"
   ]
  },
  {
   "cell_type": "code",
   "execution_count": null,
   "metadata": {},
   "outputs": [],
   "source": [
    "def calc_fahrenheit(c_temp):\n",
    "    fahr_temp = ((9 / 5) * c_temp) + 32\n",
    "    return fahr_temp\n",
    "\n",
    "print(\"본 프로그램은 섭씨를 화씨로 변환해주는 프로그램입니다.\")\n",
    "\n",
    "try:\n",
    "    celcius = float(input(\"변환하고 싶은 섭씨 온도를 입력해 주세요: \"))\n",
    "\n",
    "    fahrenheit = calc_fahrenheit(celcius)\n",
    "except Exception as e:\n",
    "    print(f\"다음과 같은 예외가 발생했습니다: {e}\")\n",
    "else:    \n",
    "    print(f\"섭씨온도 : {celcius: >5.2f}\", f\"화씨온도 : {fahrenheit: >5.2f}\", sep = \"\\n\")"
   ]
  },
  {
   "cell_type": "markdown",
   "metadata": {},
   "source": [
    "#### 2. Lab: 학점 계산하기"
   ]
  },
  {
   "cell_type": "code",
   "execution_count": null,
   "metadata": {},
   "outputs": [],
   "source": [
    "score_list = [38, 37, 7, 16, 95, 71, 63, 48, 49, 66, 37]\n",
    "\n",
    "def eval_grade(score):\n",
    "    if score >=90:\n",
    "        grade = \"A\"\n",
    "    elif score >= 80:\n",
    "        grade = \"B\"\n",
    "    elif score >= 70:\n",
    "        grade = \"C\"\n",
    "    elif score >= 60:\n",
    "        grade = \"D\"\n",
    "    else: \n",
    "        grade = \"F\"\n",
    "    return grade\n",
    "\n",
    "score_grade_dict = {}\n",
    "for score in score_list:\n",
    "    grade = eval_grade(score)\n",
    "    score_grade_dict[score] = grade\n",
    "\n",
    "print(score_grade_dict)\n"
   ]
  },
  {
   "cell_type": "markdown",
   "metadata": {},
   "source": [
    "#### 3. Lab: 나이에 따른 학교 추정하기"
   ]
  },
  {
   "cell_type": "code",
   "execution_count": null,
   "metadata": {},
   "outputs": [],
   "source": [
    "import datetime\n",
    "\n",
    "def eval_enrollment(birth_year):\n",
    "    cur_year = datetime.datetime.now().year\n",
    "    age = (cur_year - birth_year) + 1\n",
    "\n",
    "    if 26 >= age >= 20:\n",
    "        enrollment = \"대학생 입니다.\"\n",
    "    elif 20 > age >= 17:\n",
    "        enrollment = \"고등학생 입니다.\"\n",
    "    elif 17 > age >= 14:\n",
    "        enrollment = \"중학생 입니다.\"\n",
    "    elif 14 > age >= 8:\n",
    "        enrollment = \"초등학생 입니다.\"\n",
    "    else:\n",
    "        enrollment = \"학생이 아닙니다.\"\n",
    "\n",
    "    return enrollment\n",
    "\n",
    "print(\"당신이 태어난 년도를 입력하세요: \")\n",
    "birth_year = int(input())\n",
    "\n",
    "enrollment = eval_enrollment(birth_year)\n",
    "print(enrollment)\n"
   ]
  },
  {
   "cell_type": "markdown",
   "metadata": {},
   "source": [
    "#### 4. Lab: 구구단 출력하기"
   ]
  },
  {
   "cell_type": "code",
   "execution_count": null,
   "metadata": {},
   "outputs": [],
   "source": [
    "print(\"구구단 몇 단을 계산할까요?\")\n",
    "dan = int(input())\n",
    "\n",
    "print(f\"구구단 {dan}단을 계산합니다.\", sep = \"\\n\")\n",
    "\n",
    "for i in range(1, 10):\n",
    "    t = dan * i\n",
    "    print(f\"{dan} X {i} = {t}\")\n"
   ]
  },
  {
   "cell_type": "markdown",
   "metadata": {},
   "source": [
    "### 5. Lab: 임의의 숫자 찾기"
   ]
  },
  {
   "cell_type": "code",
   "execution_count": null,
   "metadata": {},
   "outputs": [],
   "source": [
    "import random\n",
    "\n",
    "quiz_number = (random.randint(1, 100))\n",
    "\n",
    "# print(quiz_number)\n",
    "\n",
    "print(\"숫자를 맞춰보세요(1 ~ 100)\", \"포기하시려면 'Enter' Key를 누르세요\", sep = \"\\n\")\n",
    "\n",
    "while (1):\n",
    "    user_input_number = input()\n",
    "    if (user_input_number ==\"\"):\n",
    "        print(\"숫자 찾기를 포기하셨습니다.\",  f\"찾는 숫자는 {quiz_number} 였습니다.\", sep = \"\\n\")\n",
    "        break\n",
    "\n",
    "    user_input_number = int(user_input_number)\n",
    "\n",
    "    if (user_input_number > quiz_number):\n",
    "        print(\"숫자가 너무 큽니다.\")\n",
    "    elif (user_input_number < quiz_number):\n",
    "        print(\"숫자가 너무 작습니다.\")\n",
    "    else:\n",
    "        print(f\"정답입니다. 입력한 숫자는 {user_input_number} 입니다.\")\n",
    "        break\n",
    "\n"
   ]
  },
  {
   "cell_type": "markdown",
   "metadata": {},
   "source": [
    "### 6. Lab: 구구단 연속 입력"
   ]
  },
  {
   "cell_type": "code",
   "execution_count": null,
   "metadata": {},
   "outputs": [],
   "source": [
    "\n",
    "while (1):\n",
    "    print(\"구구단 몇 단을 계산할까요(1 ~ 9)?\")\n",
    "    \n",
    "    dan = int(input())\n",
    "\n",
    "    if 1 <= dan < 10:\n",
    "        print(f\"구구단 {dan}을 계산합니다.\")\n",
    "        for i in range(1, 10):\n",
    "            t = dan * i\n",
    "            print(f\"{dan} X {i} = {t}\")\n",
    "    elif dan == 0:\n",
    "        print(\"구구단 게임을 종료합니다.\")\n",
    "        break\n",
    "    else:\n",
    "        pass\n",
    "\n",
    "\n"
   ]
  },
  {
   "cell_type": "markdown",
   "metadata": {},
   "source": [
    "### 7. Lab: Yesterday 가사 중 Yesterday 단어 세기"
   ]
  },
  {
   "cell_type": "code",
   "execution_count": null,
   "metadata": {},
   "outputs": [],
   "source": [
    "f = open(\"data/yesterday.txt\", \"r\")\n",
    "\n",
    "yesterday_lyric = \"\"\n",
    "\n",
    "while 1:\n",
    "    line = f.readline()\n",
    "    if not line:\n",
    "        break\n",
    "    yesterday_lyric += line.strip() + \"\\n\"\n",
    "\n",
    "f.close()\n",
    "\n",
    "casefold_yesterday = \"yesterday\".casefold()\n",
    "n_of_yesterday = yesterday_lyric.casefold().count(casefold_yesterday)\n",
    "n_of_upper_yesterday = yesterday_lyric.count(\"Yesterday\")\n",
    "n_of_lower_yesterday = yesterday_lyric.count(\"yesterday\") \n",
    "print(f\"Number of Word \\\"{casefold_yesterday}\\\" {n_of_yesterday}.\", \n",
    "      f\"Number of Upper word \\\"Yesterday\\\" {n_of_upper_yesterday}.\", \n",
    "      f\"Number of Lower word \\\"yesterday\\\" {n_of_lower_yesterday}.\", \n",
    "      sep = \"\\n\")"
   ]
  },
  {
   "cell_type": "markdown",
   "metadata": {},
   "source": [
    "### 8. Lab: 재귀함수를 for loop로 바꾸기"
   ]
  },
  {
   "cell_type": "code",
   "execution_count": null,
   "metadata": {},
   "outputs": [],
   "source": [
    "def factorial(n):\n",
    "    if n == 1:\n",
    "        return 1\n",
    "    else:\n",
    "        return n * factorial(n - 1)\n",
    "\n",
    "def factorial_for(n):\n",
    "    t = 1\n",
    "    for i in range(1, n + 1):\n",
    "        t *= i\n",
    "    return t\n",
    "\n",
    "n = 100\n",
    "print(factorial(n))\n",
    "print(factorial_for(n))\n",
    "\n"
   ]
  },
  {
   "cell_type": "code",
   "execution_count": null,
   "metadata": {},
   "outputs": [],
   "source": [
    "df.T"
   ]
  },
  {
   "cell_type": "markdown",
   "metadata": {},
   "source": [
    "#### 1. 1등실에 탑승한 승객 중 생존한 사람"
   ]
  },
  {
   "cell_type": "code",
   "execution_count": null,
   "metadata": {},
   "outputs": [],
   "source": [
    "df[(df[\"Survived\"] == 1) & (df[\"Pclass\"] == 1)].describe()"
   ]
  },
  {
   "cell_type": "markdown",
   "metadata": {},
   "source": [
    "#### 2. 1등실 외 탑승한 승객 중 사망한 사람"
   ]
  },
  {
   "cell_type": "code",
   "execution_count": null,
   "metadata": {},
   "outputs": [],
   "source": [
    "df[(df[\"Survived\"] == 0) & (df[\"Pclass\"] != 1)].describe()"
   ]
  },
  {
   "cell_type": "markdown",
   "metadata": {},
   "source": [
    "#### 3. 1등실 승객 중 사망한 사람"
   ]
  },
  {
   "cell_type": "code",
   "execution_count": null,
   "metadata": {},
   "outputs": [],
   "source": [
    "df[(df[\"Survived\"] == 0) & (df[\"Pclass\"] == 1)].describe()"
   ]
  },
  {
   "attachments": {},
   "cell_type": "markdown",
   "metadata": {},
   "source": [
    "##### **[TEST]** 구구단"
   ]
  },
  {
   "cell_type": "code",
   "execution_count": null,
   "metadata": {},
   "outputs": [],
   "source": [
    "for i in range(2, 10):\n",
    "    print(f\"{i} 단\", end = \"\\n\")\n",
    "    for j in range(1, 10):\n",
    "        print(f\"{i} * {j} = {i * j}\")"
   ]
  }
 ],
 "metadata": {
  "kernelspec": {
   "display_name": "Python 3 (ipykernel)",
   "language": "python",
   "name": "python3"
  },
  "language_info": {
   "codemirror_mode": {
    "name": "ipython",
    "version": 3
   },
   "file_extension": ".py",
   "mimetype": "text/x-python",
   "name": "python",
   "nbconvert_exporter": "python",
   "pygments_lexer": "ipython3",
   "version": "3.9.15"
  },
  "vscode": {
   "interpreter": {
    "hash": "76b2fe33c585de1cb0c772bfc603e382cdf9ea717bf46d47e3a80ec5a59b4f23"
   }
  }
 },
 "nbformat": 4,
 "nbformat_minor": 2
}
