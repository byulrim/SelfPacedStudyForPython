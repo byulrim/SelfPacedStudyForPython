{
 "cells": [
  {
   "attachments": {},
   "cell_type": "markdown",
   "metadata": {},
   "source": [
    "#### 스택 예제\n",
    "* last in first out\n",
    "* list .append(), .pop() 사용"
   ]
  },
  {
   "cell_type": "code",
   "execution_count": 9,
   "metadata": {},
   "outputs": [
    {
     "name": "stdout",
     "output_type": "stream",
     "text": [
      "[1, 2, 3, 4, 5]\n",
      "[1, 2, 3, 4, 5, 10, 20]\n",
      "20\n",
      "10\n"
     ]
    }
   ],
   "source": [
    "a_list = [1, 2, 3, 4, 5]\n",
    "\n",
    "a_list.append(10)\n",
    "a_list.append(20)\n",
    "\n",
    "a_clone_list = a_list[:]\n",
    "\n",
    "pop_1 = a_list.pop()\n",
    "pop_2 = a_list.pop()\n",
    "\n",
    "print(a_list, a_clone_list, pop_1, pop_2, sep = '\\n')"
   ]
  },
  {
   "attachments": {},
   "cell_type": "markdown",
   "metadata": {},
   "source": [
    "#### 스택 예제\n",
    "* 입력한 단어 거꾸로 출력하기"
   ]
  },
  {
   "cell_type": "code",
   "execution_count": 26,
   "metadata": {},
   "outputs": [
    {
     "name": "stdout",
     "output_type": "stream",
     "text": [
      ".다간 로뒤 며하멍멍멍 가지아강\n"
     ]
    }
   ],
   "source": [
    "word = input(\"Input a word: \")\n",
    "\n",
    "word_list = list(word.strip())\n",
    "\n",
    "reversed_word_list = []\n",
    "for i in range(len(word_list)):\n",
    "    reversed_word_list += word_list.pop()\n",
    "print(\"\".join(reversed_word_list))\n"
   ]
  },
  {
   "attachments": {},
   "cell_type": "markdown",
   "metadata": {},
   "source": [
    "* 단어 꺼구로 출력하기(슬라이싱 버전)"
   ]
  },
  {
   "cell_type": "code",
   "execution_count": 28,
   "metadata": {},
   "outputs": [
    {
     "name": "stdout",
     "output_type": "stream",
     "text": [
      ".다간 로뒤 며하멍멍멍 가지아강\n"
     ]
    }
   ],
   "source": [
    "sentence = \"강아지가 멍멍멍하며 뒤로 간다.\"\n",
    "\n",
    "print(sentence[::-1])"
   ]
  }
 ],
 "metadata": {
  "kernelspec": {
   "display_name": "python_tutorial",
   "language": "python",
   "name": "python3"
  },
  "language_info": {
   "codemirror_mode": {
    "name": "ipython",
    "version": 3
   },
   "file_extension": ".py",
   "mimetype": "text/x-python",
   "name": "python",
   "nbconvert_exporter": "python",
   "pygments_lexer": "ipython3",
   "version": "3.9.16"
  },
  "orig_nbformat": 4
 },
 "nbformat": 4,
 "nbformat_minor": 2
}
