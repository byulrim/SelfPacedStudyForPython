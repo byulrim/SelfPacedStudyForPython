{
 "cells": [
  {
   "attachments": {},
   "cell_type": "markdown",
   "metadata": {},
   "source": [
    "#### 스택 예제\n",
    "\n",
    "* last in first out\n",
    "* list .append(), .pop() 사용"
   ]
  },
  {
   "cell_type": "code",
   "execution_count": null,
   "metadata": {},
   "outputs": [],
   "source": [
    "a_list = [1, 2, 3, 4, 5]\n",
    "\n",
    "a_list.append(10)\n",
    "a_list.append(20)\n",
    "\n",
    "a_clone_list = a_list[:]\n",
    "\n",
    "pop_1 = a_list.pop()\n",
    "pop_2 = a_list.pop()\n",
    "\n",
    "print(a_list, a_clone_list, pop_1, pop_2, sep = '\\n')"
   ]
  },
  {
   "attachments": {},
   "cell_type": "markdown",
   "metadata": {},
   "source": [
    "#### 스택 예제\n",
    "* 입력한 단어 거꾸로 출력하기"
   ]
  },
  {
   "cell_type": "code",
   "execution_count": null,
   "metadata": {},
   "outputs": [],
   "source": [
    "word = input(\"Input a word: \")\n",
    "\n",
    "word_list = list(word.strip())\n",
    "\n",
    "reversed_word_list = []\n",
    "for i in range(len(word_list)):\n",
    "    reversed_word_list += word_list.pop()\n",
    "print(\"\".join(reversed_word_list))\n"
   ]
  },
  {
   "attachments": {},
   "cell_type": "markdown",
   "metadata": {},
   "source": [
    "* 단어 거꾸로 출력하기(슬라이싱 버전)"
   ]
  },
  {
   "cell_type": "code",
   "execution_count": null,
   "metadata": {},
   "outputs": [],
   "source": [
    "sentence = \"강아지가 멍멍멍하며 뒤로 간다.\"\n",
    "\n",
    "print(sentence[::-1])"
   ]
  },
  {
   "attachments": {},
   "cell_type": "markdown",
   "metadata": {},
   "source": [
    "#### 큐\n",
    "* FIFO(First In First Out)\n",
    "* list.append(), list.pop(0) 사용"
   ]
  },
  {
   "cell_type": "code",
   "execution_count": null,
   "metadata": {},
   "outputs": [],
   "source": [
    "b_list = [1, 2, 3, 4, 5]\n",
    "\n",
    "b_list.append(10)\n",
    "b_list.append(20)\n",
    "\n",
    "b_list_origin = b_list[:]\n",
    "\n",
    "pop1 = b_list.pop(0)\n",
    "pop2 = b_list.pop(0)\n",
    "\n",
    "print(b_list_origin, b_list, pop1, pop2, sep = \"\\n\")"
   ]
  },
  {
   "attachments": {},
   "cell_type": "markdown",
   "metadata": {},
   "source": [
    "#### 집합(SET)"
   ]
  },
  {
   "cell_type": "code",
   "execution_count": null,
   "metadata": {},
   "outputs": [],
   "source": [
    "import copy\n",
    "\n",
    "set1 = {1, 2, 3, 1, 2, 3}\n",
    "\n",
    "set1_cp = copy.deepcopy(set1)\n",
    "\n",
    "set1.add(4)\n",
    "set1.remove(1)\n",
    "set1.update([6, 7, 8, 9, 10])\n",
    "set1.discard(11)\n",
    "# set1.clear()\n",
    "\n",
    "print(set1, set1_cp, sep=\", \")"
   ]
  },
  {
   "attachments": {},
   "cell_type": "markdown",
   "metadata": {},
   "source": [
    "* 집합연산\n",
    "  * 합집합(union)\n",
    "  * 교집합(intersection)\n",
    "  * 차집합(difference)"
   ]
  },
  {
   "cell_type": "code",
   "execution_count": null,
   "metadata": {},
   "outputs": [],
   "source": [
    "set2 = {1, 2, 3, 4, 5}\n",
    "\n",
    "print(f\"Union: {set1.union(set2)}\",\n",
    "      f\"Intersection: {set1.intersection(set2)}\",\n",
    "      f\"Difference: {set1.difference(set2)}\", \n",
    "      sep = \"\\n\")"
   ]
  },
  {
   "cell_type": "code",
   "execution_count": null,
   "metadata": {},
   "outputs": [],
   "source": [
    "import pandas as pd\n",
    "import numpy as np"
   ]
  },
  {
   "cell_type": "code",
   "execution_count": null,
   "metadata": {},
   "outputs": [],
   "source": [
    "student_dict = {\"학번\": [\"20150230\", \"20150233\", \"20150234\", \"20150236\"],\n",
    " \"이름\": [\"홍길동\", \"김은정\", \"오영심\", \"최성철\"],\n",
    " \"생년월일\": [\"1995-04-03\", \"1995-04-20\", \"1996-01-03\", \"1995-12-27\"],\n",
    " \"주소\": [\"서울시 동대문구\", \"성남시 분당구\", \"성남시 중원구\", \"인천시 계양구\"]}\n",
    "\n",
    "df = pd.DataFrame(student_dict)\n",
    "\n",
    "df.set_index(keys = [\"학번\"], inplace = True, drop = True)\n",
    "\n",
    "print(df)"
   ]
  },
  {
   "cell_type": "code",
   "execution_count": null,
   "metadata": {},
   "outputs": [],
   "source": [
    "student_info = {\"20140012\": \"Sungchul\", \"20140059\": \"Jiyong\", \"20140058\": \"Jaehong\"}\n",
    "\n",
    "student_info[\"20140012\"] = \"Janhyeok\"\n",
    "student_info[\"20140039\"] = \"Wonchul\"\n",
    "\n",
    "for i in student_info:\n",
    "    print(f\"{i}: {student_info[i]}\", end = \" \")"
   ]
  },
  {
   "cell_type": "code",
   "execution_count": null,
   "metadata": {},
   "outputs": [],
   "source": [
    "country_code = {}\n",
    "country_code = {\"America\": 1, \"Korea\": 82, \"China\": 86, \"Japan\": 81}\n",
    "\n",
    "for i in country_code:\n",
    "    print(f\"{i:10}: {country_code[i]:3}\")\n",
    "\n",
    "country_code.items()\n",
    "\n",
    "country_code[\"German\"] = 49\n",
    "\n",
    "key_list = list(country_code.keys())\n",
    "value_list = list(country_code.values())\n",
    "\n",
    "print(f\"{key_list}\", f\"{value_list}\", sep=\"\\n\")\n",
    "\n",
    "print(\"korea\".casefold() in (x.casefold() for x in key_list))\n",
    "\n",
    "print(82 in value_list)"
   ]
  },
  {
   "cell_type": "code",
   "execution_count": null,
   "metadata": {},
   "outputs": [],
   "source": [
    "import os\n",
    "\n",
    "print(os.getcwd())"
   ]
  },
  {
   "cell_type": "code",
   "execution_count": null,
   "metadata": {},
   "outputs": [],
   "source": [
    "df = pd.read_csv(\"data/command_data.csv\")\n"
   ]
  },
  {
   "cell_type": "code",
   "execution_count": null,
   "metadata": {},
   "outputs": [],
   "source": [
    "df.shape"
   ]
  },
  {
   "cell_type": "code",
   "execution_count": null,
   "metadata": {},
   "outputs": [],
   "source": [
    "df.head()"
   ]
  },
  {
   "cell_type": "code",
   "execution_count": null,
   "metadata": {},
   "outputs": [],
   "source": [
    "df.sort_values(by = \"command\", ascending=True)"
   ]
  },
  {
   "cell_type": "code",
   "execution_count": null,
   "metadata": {},
   "outputs": [],
   "source": [
    "df.groupby(\"command\").count().sort_values(by = \"id\", ascending=False).head(10)"
   ]
  },
  {
   "cell_type": "code",
   "execution_count": null,
   "metadata": {},
   "outputs": [],
   "source": [
    "df.groupby(\"id\").count().sort_values(by = \"command\", ascending=False).head(10)"
   ]
  }
 ],
 "metadata": {
  "kernelspec": {
   "display_name": "python_tutorial",
   "language": "python",
   "name": "python3"
  },
  "language_info": {
   "codemirror_mode": {
    "name": "ipython",
    "version": 3
   },
   "file_extension": ".py",
   "mimetype": "text/x-python",
   "name": "python",
   "nbconvert_exporter": "python",
   "pygments_lexer": "ipython3",
   "version": "3.9.16"
  },
  "orig_nbformat": 4
 },
 "nbformat": 4,
 "nbformat_minor": 2
}
