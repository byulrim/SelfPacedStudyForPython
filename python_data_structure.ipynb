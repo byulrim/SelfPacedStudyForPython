{
 "cells": [
  {
   "attachments": {},
   "cell_type": "markdown",
   "metadata": {},
   "source": [
    "#### 스택 예제\n",
    "\n",
    "* last in first out\n",
    "* list .append(), .pop() 사용"
   ]
  },
  {
   "cell_type": "code",
   "execution_count": null,
   "metadata": {},
   "outputs": [],
   "source": [
    "a_list = [1, 2, 3, 4, 5]\n",
    "\n",
    "a_list.append(10)\n",
    "a_list.append(20)\n",
    "\n",
    "a_clone_list = a_list[:]\n",
    "\n",
    "pop_1 = a_list.pop()\n",
    "pop_2 = a_list.pop()\n",
    "\n",
    "print(a_list, a_clone_list, pop_1, pop_2, sep = '\\n')"
   ]
  },
  {
   "attachments": {},
   "cell_type": "markdown",
   "metadata": {},
   "source": [
    "#### 스택 예제\n",
    "* 입력한 단어 거꾸로 출력하기"
   ]
  },
  {
   "cell_type": "code",
   "execution_count": null,
   "metadata": {},
   "outputs": [],
   "source": [
    "word = input(\"Input a word: \")\n",
    "\n",
    "word_list = list(word.strip())\n",
    "\n",
    "reversed_word_list = []\n",
    "for i in range(len(word_list)):\n",
    "    reversed_word_list += word_list.pop()\n",
    "print(\"\".join(reversed_word_list))\n"
   ]
  },
  {
   "attachments": {},
   "cell_type": "markdown",
   "metadata": {},
   "source": [
    "* 단어 거꾸로 출력하기(슬라이싱 버전)"
   ]
  },
  {
   "cell_type": "code",
   "execution_count": null,
   "metadata": {},
   "outputs": [],
   "source": [
    "sentence = \"강아지가 멍멍멍하며 뒤로 간다.\"\n",
    "\n",
    "print(sentence[::-1])"
   ]
  },
  {
   "attachments": {},
   "cell_type": "markdown",
   "metadata": {},
   "source": [
    "#### 큐\n",
    "* FIFO(First In First Out)\n",
    "* list.append(), list.pop(0) 사용"
   ]
  },
  {
   "cell_type": "code",
   "execution_count": null,
   "metadata": {},
   "outputs": [],
   "source": [
    "b_list = [1, 2, 3, 4, 5]\n",
    "\n",
    "b_list.append(10)\n",
    "b_list.append(20)\n",
    "\n",
    "b_list_origin = b_list[:]\n",
    "\n",
    "pop1 = b_list.pop(0)\n",
    "pop2 = b_list.pop(0)\n",
    "\n",
    "print(b_list_origin, b_list, pop1, pop2, sep = \"\\n\")"
   ]
  },
  {
   "attachments": {},
   "cell_type": "markdown",
   "metadata": {},
   "source": [
    "#### 집합(SET)"
   ]
  },
  {
   "cell_type": "code",
   "execution_count": null,
   "metadata": {},
   "outputs": [],
   "source": [
    "import copy\n",
    "\n",
    "set1 = {1, 2, 3, 1, 2, 3}\n",
    "\n",
    "set1_cp = copy.deepcopy(set1)\n",
    "\n",
    "set1.add(4)\n",
    "set1.remove(1)\n",
    "set1.update([6, 7, 8, 9, 10])\n",
    "set1.discard(11)\n",
    "# set1.clear()\n",
    "\n",
    "print(set1, set1_cp, sep=\", \")"
   ]
  },
  {
   "attachments": {},
   "cell_type": "markdown",
   "metadata": {},
   "source": [
    "* 집합연산\n",
    "  * 합집합(union)\n",
    "  * 교집합(intersection)\n",
    "  * 차집합(difference)"
   ]
  },
  {
   "cell_type": "code",
   "execution_count": null,
   "metadata": {},
   "outputs": [],
   "source": [
    "set2 = {1, 2, 3, 4, 5}\n",
    "\n",
    "print(f\"Union: {set1.union(set2)}\",\n",
    "      f\"Intersection: {set1.intersection(set2)}\",\n",
    "      f\"Difference: {set1.difference(set2)}\", \n",
    "      sep = \"\\n\")"
   ]
  },
  {
   "cell_type": "code",
   "execution_count": 18,
   "metadata": {},
   "outputs": [],
   "source": [
    "import pandas as pd\n",
    "import numpy as np"
   ]
  },
  {
   "cell_type": "code",
   "execution_count": null,
   "metadata": {},
   "outputs": [],
   "source": [
    "student_dict = {\"학번\": [\"20150230\", \"20150233\", \"20150234\", \"20150236\"],\n",
    " \"이름\": [\"홍길동\", \"김은정\", \"오영심\", \"최성철\"],\n",
    " \"생년월일\": [\"1995-04-03\", \"1995-04-20\", \"1996-01-03\", \"1995-12-27\"],\n",
    " \"주소\": [\"서울시 동대문구\", \"성남시 분당구\", \"성남시 중원구\", \"인천시 계양구\"]}\n",
    "\n",
    "df = pd.DataFrame(student_dict)\n",
    "\n",
    "df.set_index(keys = [\"학번\"], inplace = True, drop = True)\n",
    "\n",
    "print(df)"
   ]
  },
  {
   "cell_type": "code",
   "execution_count": null,
   "metadata": {},
   "outputs": [],
   "source": [
    "student_info = {\"20140012\": \"Sungchul\", \"20140059\": \"Jiyong\", \"20140058\": \"Jaehong\"}\n",
    "\n",
    "student_info[\"20140012\"] = \"Janhyeok\"\n",
    "student_info[\"20140039\"] = \"Wonchul\"\n",
    "\n",
    "for i in student_info:\n",
    "    print(f\"{i}: {student_info[i]}\", end = \" \")"
   ]
  },
  {
   "cell_type": "code",
   "execution_count": 17,
   "metadata": {},
   "outputs": [
    {
     "name": "stdout",
     "output_type": "stream",
     "text": [
      "America   :   1\n",
      "Korea     :  82\n",
      "China     :  86\n",
      "Japan     :  81\n",
      "['America', 'Korea', 'China', 'Japan', 'German']\n",
      "[1, 82, 86, 81, 49]\n",
      "True\n",
      "True\n"
     ]
    }
   ],
   "source": [
    "country_code = {}\n",
    "country_code = {\"America\": 1, \"Korea\": 82, \"China\": 86, \"Japan\": 81}\n",
    "\n",
    "for i in country_code:\n",
    "    print(f\"{i:10}: {country_code[i]:3}\")\n",
    "\n",
    "country_code.items()\n",
    "\n",
    "country_code[\"German\"] = 49\n",
    "\n",
    "key_list = list(country_code.keys())\n",
    "value_list = list(country_code.values())\n",
    "\n",
    "print(f\"{key_list}\", f\"{value_list}\", sep=\"\\n\")\n",
    "\n",
    "print(\"korea\".casefold() in (x.casefold() for x in key_list))\n",
    "\n",
    "print(82 in value_list)"
   ]
  },
  {
   "cell_type": "code",
   "execution_count": 19,
   "metadata": {},
   "outputs": [
    {
     "name": "stdout",
     "output_type": "stream",
     "text": [
      "c:\\Exercise\\Python\\SystemTrading\n"
     ]
    }
   ],
   "source": [
    "import os\n",
    "\n",
    "print(os.getcwd())"
   ]
  },
  {
   "cell_type": "code",
   "execution_count": 20,
   "metadata": {},
   "outputs": [
    {
     "data": {
      "text/html": [
       "<div>\n",
       "<style scoped>\n",
       "    .dataframe tbody tr th:only-of-type {\n",
       "        vertical-align: middle;\n",
       "    }\n",
       "\n",
       "    .dataframe tbody tr th {\n",
       "        vertical-align: top;\n",
       "    }\n",
       "\n",
       "    .dataframe thead th {\n",
       "        text-align: right;\n",
       "    }\n",
       "</style>\n",
       "<table border=\"1\" class=\"dataframe\">\n",
       "  <thead>\n",
       "    <tr style=\"text-align: right;\">\n",
       "      <th></th>\n",
       "      <th>command</th>\n",
       "      <th>id</th>\n",
       "    </tr>\n",
       "  </thead>\n",
       "  <tbody>\n",
       "    <tr>\n",
       "      <th>0</th>\n",
       "      <td>_raw</td>\n",
       "      <td>source</td>\n",
       "    </tr>\n",
       "    <tr>\n",
       "      <th>1</th>\n",
       "      <td>vi gowithflow.py</td>\n",
       "      <td>tiana</td>\n",
       "    </tr>\n",
       "    <tr>\n",
       "      <th>2</th>\n",
       "      <td>python3.4 submit_assignment.py -submit gowithf...</td>\n",
       "      <td>tiana</td>\n",
       "    </tr>\n",
       "    <tr>\n",
       "      <th>3</th>\n",
       "      <td>vi gowithflow.py</td>\n",
       "      <td>white_rabbit</td>\n",
       "    </tr>\n",
       "    <tr>\n",
       "      <th>4</th>\n",
       "      <td>python3.4 gowithflow.py</td>\n",
       "      <td>white_rabbit</td>\n",
       "    </tr>\n",
       "    <tr>\n",
       "      <th>...</th>\n",
       "      <td>...</td>\n",
       "      <td>...</td>\n",
       "    </tr>\n",
       "    <tr>\n",
       "      <th>120589</th>\n",
       "      <td>[GCC 4.8.2] on linux</td>\n",
       "      <td>flo</td>\n",
       "    </tr>\n",
       "    <tr>\n",
       "      <th>120590</th>\n",
       "      <td>[GCC 4.8.2] on linux</td>\n",
       "      <td>flo</td>\n",
       "    </tr>\n",
       "    <tr>\n",
       "      <th>120591</th>\n",
       "      <td>[GCC 4.8.2] on linux</td>\n",
       "      <td>bambi</td>\n",
       "    </tr>\n",
       "    <tr>\n",
       "      <th>120592</th>\n",
       "      <td>[GCC 4.8.2] on linux</td>\n",
       "      <td>bambi</td>\n",
       "    </tr>\n",
       "    <tr>\n",
       "      <th>120593</th>\n",
       "      <td>[GCC 4.8.2] on linux</td>\n",
       "      <td>auguste_gusteau</td>\n",
       "    </tr>\n",
       "  </tbody>\n",
       "</table>\n",
       "<p>120594 rows × 2 columns</p>\n",
       "</div>"
      ],
      "text/plain": [
       "                                                  command               id\n",
       "0                                                    _raw           source\n",
       "1                                       vi gowithflow.py             tiana\n",
       "2       python3.4 submit_assignment.py -submit gowithf...            tiana\n",
       "3                                        vi gowithflow.py     white_rabbit\n",
       "4                                 python3.4 gowithflow.py     white_rabbit\n",
       "...                                                   ...              ...\n",
       "120589                               [GCC 4.8.2] on linux              flo\n",
       "120590                               [GCC 4.8.2] on linux              flo\n",
       "120591                               [GCC 4.8.2] on linux            bambi\n",
       "120592                               [GCC 4.8.2] on linux            bambi\n",
       "120593                               [GCC 4.8.2] on linux  auguste_gusteau\n",
       "\n",
       "[120594 rows x 2 columns]"
      ]
     },
     "execution_count": 20,
     "metadata": {},
     "output_type": "execute_result"
    }
   ],
   "source": [
    "pd.read_csv(\"data/command_data.csv\")"
   ]
  }
 ],
 "metadata": {
  "kernelspec": {
   "display_name": "python_tutorial",
   "language": "python",
   "name": "python3"
  },
  "language_info": {
   "codemirror_mode": {
    "name": "ipython",
    "version": 3
   },
   "file_extension": ".py",
   "mimetype": "text/x-python",
   "name": "python",
   "nbconvert_exporter": "python",
   "pygments_lexer": "ipython3",
   "version": "3.9.15"
  },
  "orig_nbformat": 4
 },
 "nbformat": 4,
 "nbformat_minor": 2
}
