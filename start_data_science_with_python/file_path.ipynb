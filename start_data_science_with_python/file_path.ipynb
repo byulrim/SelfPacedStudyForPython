{
 "cells": [
  {
   "cell_type": "code",
   "execution_count": 1,
   "metadata": {},
   "outputs": [
    {
     "data": {
      "text/plain": [
       "'c:\\\\Exercise\\\\Python\\\\SystemTrading\\\\start_data_science_with_python'"
      ]
     },
     "execution_count": 1,
     "metadata": {},
     "output_type": "execute_result"
    }
   ],
   "source": [
    "%pwd"
   ]
  },
  {
   "cell_type": "code",
   "execution_count": null,
   "metadata": {},
   "outputs": [],
   "source": [
    "import os"
   ]
  },
  {
   "cell_type": "code",
   "execution_count": null,
   "metadata": {},
   "outputs": [],
   "source": [
    "os.getcwd()"
   ]
  },
  {
   "cell_type": "code",
   "execution_count": 2,
   "metadata": {},
   "outputs": [],
   "source": [
    "from glob import glob"
   ]
  },
  {
   "cell_type": "code",
   "execution_count": 3,
   "metadata": {},
   "outputs": [
    {
     "data": {
      "text/plain": [
       "['data\\\\(필독) 일반사용자 파일 열람 방법.hwp',\n",
       " 'data\\\\stores',\n",
       " 'data\\\\도로교통공단_월별 주야별 교통사고 통계_20211231.csv',\n",
       " 'data\\\\소상공인시장진흥공단_상가업소정보_의료기관_201909.csv']"
      ]
     },
     "execution_count": 3,
     "metadata": {},
     "output_type": "execute_result"
    }
   ],
   "source": [
    "glob(\"data/*\")"
   ]
  },
  {
   "cell_type": "code",
   "execution_count": 9,
   "metadata": {},
   "outputs": [
    {
     "data": {
      "text/plain": [
       "'data\\\\도로교통공단_월별 주야별 교통사고 통계_20211231.csv'"
      ]
     },
     "execution_count": 9,
     "metadata": {},
     "output_type": "execute_result"
    }
   ],
   "source": [
    "file_name = glob(\"data/*\")[2]\n",
    "file_name"
   ]
  },
  {
   "cell_type": "code",
   "execution_count": 4,
   "metadata": {},
   "outputs": [],
   "source": [
    "import pandas as pd"
   ]
  },
  {
   "cell_type": "code",
   "execution_count": 10,
   "metadata": {},
   "outputs": [
    {
     "data": {
      "text/html": [
       "<div>\n",
       "<style scoped>\n",
       "    .dataframe tbody tr th:only-of-type {\n",
       "        vertical-align: middle;\n",
       "    }\n",
       "\n",
       "    .dataframe tbody tr th {\n",
       "        vertical-align: top;\n",
       "    }\n",
       "\n",
       "    .dataframe thead th {\n",
       "        text-align: right;\n",
       "    }\n",
       "</style>\n",
       "<table border=\"1\" class=\"dataframe\">\n",
       "  <thead>\n",
       "    <tr style=\"text-align: right;\">\n",
       "      <th></th>\n",
       "      <th>발생월</th>\n",
       "      <th>주야</th>\n",
       "      <th>사고건수</th>\n",
       "      <th>사망자수</th>\n",
       "      <th>중상자수</th>\n",
       "      <th>경상자수</th>\n",
       "      <th>부상신고자수</th>\n",
       "    </tr>\n",
       "  </thead>\n",
       "  <tbody>\n",
       "    <tr>\n",
       "      <th>0</th>\n",
       "      <td>1</td>\n",
       "      <td>주</td>\n",
       "      <td>8821</td>\n",
       "      <td>107</td>\n",
       "      <td>2421</td>\n",
       "      <td>9631</td>\n",
       "      <td>707</td>\n",
       "    </tr>\n",
       "    <tr>\n",
       "      <th>1</th>\n",
       "      <td>1</td>\n",
       "      <td>야</td>\n",
       "      <td>6088</td>\n",
       "      <td>90</td>\n",
       "      <td>1627</td>\n",
       "      <td>6510</td>\n",
       "      <td>427</td>\n",
       "    </tr>\n",
       "    <tr>\n",
       "      <th>2</th>\n",
       "      <td>2</td>\n",
       "      <td>주</td>\n",
       "      <td>8756</td>\n",
       "      <td>107</td>\n",
       "      <td>2468</td>\n",
       "      <td>9681</td>\n",
       "      <td>670</td>\n",
       "    </tr>\n",
       "    <tr>\n",
       "      <th>3</th>\n",
       "      <td>2</td>\n",
       "      <td>야</td>\n",
       "      <td>5755</td>\n",
       "      <td>96</td>\n",
       "      <td>1572</td>\n",
       "      <td>6286</td>\n",
       "      <td>483</td>\n",
       "    </tr>\n",
       "    <tr>\n",
       "      <th>4</th>\n",
       "      <td>3</td>\n",
       "      <td>주</td>\n",
       "      <td>10274</td>\n",
       "      <td>128</td>\n",
       "      <td>2787</td>\n",
       "      <td>11163</td>\n",
       "      <td>820</td>\n",
       "    </tr>\n",
       "    <tr>\n",
       "      <th>5</th>\n",
       "      <td>3</td>\n",
       "      <td>야</td>\n",
       "      <td>6326</td>\n",
       "      <td>81</td>\n",
       "      <td>1775</td>\n",
       "      <td>6859</td>\n",
       "      <td>524</td>\n",
       "    </tr>\n",
       "    <tr>\n",
       "      <th>6</th>\n",
       "      <td>4</td>\n",
       "      <td>주</td>\n",
       "      <td>11032</td>\n",
       "      <td>119</td>\n",
       "      <td>3105</td>\n",
       "      <td>11935</td>\n",
       "      <td>819</td>\n",
       "    </tr>\n",
       "    <tr>\n",
       "      <th>7</th>\n",
       "      <td>4</td>\n",
       "      <td>야</td>\n",
       "      <td>6371</td>\n",
       "      <td>93</td>\n",
       "      <td>1878</td>\n",
       "      <td>6887</td>\n",
       "      <td>518</td>\n",
       "    </tr>\n",
       "    <tr>\n",
       "      <th>8</th>\n",
       "      <td>5</td>\n",
       "      <td>주</td>\n",
       "      <td>11025</td>\n",
       "      <td>154</td>\n",
       "      <td>3010</td>\n",
       "      <td>12132</td>\n",
       "      <td>922</td>\n",
       "    </tr>\n",
       "    <tr>\n",
       "      <th>9</th>\n",
       "      <td>5</td>\n",
       "      <td>야</td>\n",
       "      <td>6353</td>\n",
       "      <td>101</td>\n",
       "      <td>1762</td>\n",
       "      <td>6779</td>\n",
       "      <td>520</td>\n",
       "    </tr>\n",
       "    <tr>\n",
       "      <th>10</th>\n",
       "      <td>6</td>\n",
       "      <td>주</td>\n",
       "      <td>11310</td>\n",
       "      <td>124</td>\n",
       "      <td>3286</td>\n",
       "      <td>12244</td>\n",
       "      <td>865</td>\n",
       "    </tr>\n",
       "    <tr>\n",
       "      <th>11</th>\n",
       "      <td>6</td>\n",
       "      <td>야</td>\n",
       "      <td>6265</td>\n",
       "      <td>103</td>\n",
       "      <td>1733</td>\n",
       "      <td>6593</td>\n",
       "      <td>569</td>\n",
       "    </tr>\n",
       "    <tr>\n",
       "      <th>12</th>\n",
       "      <td>7</td>\n",
       "      <td>주</td>\n",
       "      <td>11408</td>\n",
       "      <td>139</td>\n",
       "      <td>3132</td>\n",
       "      <td>12435</td>\n",
       "      <td>892</td>\n",
       "    </tr>\n",
       "    <tr>\n",
       "      <th>13</th>\n",
       "      <td>7</td>\n",
       "      <td>야</td>\n",
       "      <td>6586</td>\n",
       "      <td>115</td>\n",
       "      <td>1829</td>\n",
       "      <td>7024</td>\n",
       "      <td>558</td>\n",
       "    </tr>\n",
       "    <tr>\n",
       "      <th>14</th>\n",
       "      <td>8</td>\n",
       "      <td>주</td>\n",
       "      <td>10407</td>\n",
       "      <td>129</td>\n",
       "      <td>2878</td>\n",
       "      <td>11541</td>\n",
       "      <td>854</td>\n",
       "    </tr>\n",
       "    <tr>\n",
       "      <th>15</th>\n",
       "      <td>8</td>\n",
       "      <td>야</td>\n",
       "      <td>6011</td>\n",
       "      <td>118</td>\n",
       "      <td>1638</td>\n",
       "      <td>6365</td>\n",
       "      <td>506</td>\n",
       "    </tr>\n",
       "    <tr>\n",
       "      <th>16</th>\n",
       "      <td>9</td>\n",
       "      <td>주</td>\n",
       "      <td>10869</td>\n",
       "      <td>131</td>\n",
       "      <td>2959</td>\n",
       "      <td>11885</td>\n",
       "      <td>856</td>\n",
       "    </tr>\n",
       "    <tr>\n",
       "      <th>17</th>\n",
       "      <td>9</td>\n",
       "      <td>야</td>\n",
       "      <td>6143</td>\n",
       "      <td>115</td>\n",
       "      <td>1747</td>\n",
       "      <td>6299</td>\n",
       "      <td>506</td>\n",
       "    </tr>\n",
       "    <tr>\n",
       "      <th>18</th>\n",
       "      <td>10</td>\n",
       "      <td>주</td>\n",
       "      <td>11229</td>\n",
       "      <td>156</td>\n",
       "      <td>3064</td>\n",
       "      <td>12129</td>\n",
       "      <td>882</td>\n",
       "    </tr>\n",
       "    <tr>\n",
       "      <th>19</th>\n",
       "      <td>10</td>\n",
       "      <td>야</td>\n",
       "      <td>7071</td>\n",
       "      <td>156</td>\n",
       "      <td>1935</td>\n",
       "      <td>7732</td>\n",
       "      <td>565</td>\n",
       "    </tr>\n",
       "    <tr>\n",
       "      <th>20</th>\n",
       "      <td>11</td>\n",
       "      <td>주</td>\n",
       "      <td>11223</td>\n",
       "      <td>163</td>\n",
       "      <td>3124</td>\n",
       "      <td>11890</td>\n",
       "      <td>922</td>\n",
       "    </tr>\n",
       "    <tr>\n",
       "      <th>21</th>\n",
       "      <td>11</td>\n",
       "      <td>야</td>\n",
       "      <td>6873</td>\n",
       "      <td>122</td>\n",
       "      <td>1884</td>\n",
       "      <td>7284</td>\n",
       "      <td>602</td>\n",
       "    </tr>\n",
       "    <tr>\n",
       "      <th>22</th>\n",
       "      <td>12</td>\n",
       "      <td>주</td>\n",
       "      <td>10318</td>\n",
       "      <td>149</td>\n",
       "      <td>2658</td>\n",
       "      <td>10936</td>\n",
       "      <td>916</td>\n",
       "    </tr>\n",
       "    <tr>\n",
       "      <th>23</th>\n",
       "      <td>12</td>\n",
       "      <td>야</td>\n",
       "      <td>6616</td>\n",
       "      <td>120</td>\n",
       "      <td>1633</td>\n",
       "      <td>7063</td>\n",
       "      <td>517</td>\n",
       "    </tr>\n",
       "  </tbody>\n",
       "</table>\n",
       "</div>"
      ],
      "text/plain": [
       "    발생월 주야   사고건수  사망자수  중상자수   경상자수  부상신고자수\n",
       "0     1  주   8821   107  2421   9631     707\n",
       "1     1  야   6088    90  1627   6510     427\n",
       "2     2  주   8756   107  2468   9681     670\n",
       "3     2  야   5755    96  1572   6286     483\n",
       "4     3  주  10274   128  2787  11163     820\n",
       "5     3  야   6326    81  1775   6859     524\n",
       "6     4  주  11032   119  3105  11935     819\n",
       "7     4  야   6371    93  1878   6887     518\n",
       "8     5  주  11025   154  3010  12132     922\n",
       "9     5  야   6353   101  1762   6779     520\n",
       "10    6  주  11310   124  3286  12244     865\n",
       "11    6  야   6265   103  1733   6593     569\n",
       "12    7  주  11408   139  3132  12435     892\n",
       "13    7  야   6586   115  1829   7024     558\n",
       "14    8  주  10407   129  2878  11541     854\n",
       "15    8  야   6011   118  1638   6365     506\n",
       "16    9  주  10869   131  2959  11885     856\n",
       "17    9  야   6143   115  1747   6299     506\n",
       "18   10  주  11229   156  3064  12129     882\n",
       "19   10  야   7071   156  1935   7732     565\n",
       "20   11  주  11223   163  3124  11890     922\n",
       "21   11  야   6873   122  1884   7284     602\n",
       "22   12  주  10318   149  2658  10936     916\n",
       "23   12  야   6616   120  1633   7063     517"
      ]
     },
     "execution_count": 10,
     "metadata": {},
     "output_type": "execute_result"
    }
   ],
   "source": [
    "df =pd.read_csv(file_name, encoding = \"cp949\")\n",
    "df"
   ]
  },
  {
   "cell_type": "code",
   "execution_count": 20,
   "metadata": {},
   "outputs": [
    {
     "data": {
      "text/plain": [
       "Index(['사고건수', '사망자수', '중상자수', '경상자수', '부상신고자수'], dtype='object')"
      ]
     },
     "execution_count": 20,
     "metadata": {},
     "output_type": "execute_result"
    }
   ],
   "source": [
    "df.columns"
   ]
  },
  {
   "cell_type": "code",
   "execution_count": 19,
   "metadata": {},
   "outputs": [
    {
     "data": {
      "text/plain": [
       "MultiIndex([( 1, '주'),\n",
       "            ( 1, '야'),\n",
       "            ( 2, '주'),\n",
       "            ( 2, '야'),\n",
       "            ( 3, '주'),\n",
       "            ( 3, '야'),\n",
       "            ( 4, '주'),\n",
       "            ( 4, '야'),\n",
       "            ( 5, '주'),\n",
       "            ( 5, '야'),\n",
       "            ( 6, '주'),\n",
       "            ( 6, '야'),\n",
       "            ( 7, '주'),\n",
       "            ( 7, '야'),\n",
       "            ( 8, '주'),\n",
       "            ( 8, '야'),\n",
       "            ( 9, '주'),\n",
       "            ( 9, '야'),\n",
       "            (10, '주'),\n",
       "            (10, '야'),\n",
       "            (11, '주'),\n",
       "            (11, '야'),\n",
       "            (12, '주'),\n",
       "            (12, '야')],\n",
       "           names=['발생월', '주야'])"
      ]
     },
     "execution_count": 19,
     "metadata": {},
     "output_type": "execute_result"
    }
   ],
   "source": [
    "df.index"
   ]
  },
  {
   "cell_type": "code",
   "execution_count": null,
   "metadata": {},
   "outputs": [],
   "source": [
    "df.set_index([\"발생월\", \"주야\"], inplace=True)"
   ]
  },
  {
   "cell_type": "code",
   "execution_count": 32,
   "metadata": {},
   "outputs": [],
   "source": [
    "df.sort_values([\"사고건수\"], ascending=False, inplace=True)"
   ]
  },
  {
   "cell_type": "code",
   "execution_count": 33,
   "metadata": {},
   "outputs": [
    {
     "data": {
      "text/plain": [
       "사고건수      int64\n",
       "사망자수      int64\n",
       "중상자수      int64\n",
       "경상자수      int64\n",
       "부상신고자수    int64\n",
       "dtype: object"
      ]
     },
     "execution_count": 33,
     "metadata": {},
     "output_type": "execute_result"
    }
   ],
   "source": [
    "df.dtypes"
   ]
  },
  {
   "cell_type": "code",
   "execution_count": 34,
   "metadata": {},
   "outputs": [
    {
     "name": "stdout",
     "output_type": "stream",
     "text": [
      "<class 'pandas.core.frame.DataFrame'>\n",
      "MultiIndex: 24 entries, (7, '주') to (2, '야')\n",
      "Data columns (total 5 columns):\n",
      " #   Column  Non-Null Count  Dtype\n",
      "---  ------  --------------  -----\n",
      " 0   사고건수    24 non-null     int64\n",
      " 1   사망자수    24 non-null     int64\n",
      " 2   중상자수    24 non-null     int64\n",
      " 3   경상자수    24 non-null     int64\n",
      " 4   부상신고자수  24 non-null     int64\n",
      "dtypes: int64(5)\n",
      "memory usage: 1.6+ KB\n"
     ]
    }
   ],
   "source": [
    "df.info()"
   ]
  },
  {
   "cell_type": "code",
   "execution_count": null,
   "metadata": {},
   "outputs": [],
   "source": [
    "csv_files_list = glob(\"data/stores/*_*_*_202212.csv\")"
   ]
  },
  {
   "cell_type": "code",
   "execution_count": null,
   "metadata": {},
   "outputs": [],
   "source": [
    "csv_files_list"
   ]
  },
  {
   "cell_type": "code",
   "execution_count": null,
   "metadata": {},
   "outputs": [],
   "source": [
    "file_list = []\n",
    "for csv_file in csv_files_list:\n",
    "    print(csv_file)\n",
    "    temp = pd.read_csv(csv_file, low_memory=False)\n",
    "    file_list.append(temp)"
   ]
  },
  {
   "cell_type": "code",
   "execution_count": null,
   "metadata": {},
   "outputs": [],
   "source": [
    "len(file_list)"
   ]
  },
  {
   "cell_type": "code",
   "execution_count": null,
   "metadata": {},
   "outputs": [],
   "source": [
    "df2 = pd.concat(file_list)"
   ]
  },
  {
   "cell_type": "code",
   "execution_count": null,
   "metadata": {},
   "outputs": [],
   "source": [
    "df2.shape"
   ]
  },
  {
   "cell_type": "code",
   "execution_count": null,
   "metadata": {},
   "outputs": [],
   "source": [
    "df2.tail()"
   ]
  },
  {
   "cell_type": "code",
   "execution_count": null,
   "metadata": {},
   "outputs": [],
   "source": [
    "df2.info()"
   ]
  },
  {
   "cell_type": "code",
   "execution_count": null,
   "metadata": {},
   "outputs": [],
   "source": [
    "df2.to_csv(r\"data/stores/concat.csv\")"
   ]
  }
 ],
 "metadata": {
  "kernelspec": {
   "display_name": "system_trading_py39_64",
   "language": "python",
   "name": "python3"
  },
  "language_info": {
   "codemirror_mode": {
    "name": "ipython",
    "version": 3
   },
   "file_extension": ".py",
   "mimetype": "text/x-python",
   "name": "python",
   "nbconvert_exporter": "python",
   "pygments_lexer": "ipython3",
   "version": "3.9.16"
  },
  "orig_nbformat": 4
 },
 "nbformat": 4,
 "nbformat_minor": 2
}
